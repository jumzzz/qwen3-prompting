{
 "cells": [
  {
   "cell_type": "code",
   "execution_count": 27,
   "metadata": {},
   "outputs": [],
   "source": [
    "from mlx_lm import load, stream_generate\n"
   ]
  },
  {
   "cell_type": "code",
   "execution_count": 28,
   "metadata": {},
   "outputs": [],
   "source": [
    "model_path = \"../../huggingface-models/qwen3-8b-4bit/\"\n",
    "model, tokenizer = load(model_path)"
   ]
  },
  {
   "cell_type": "code",
   "execution_count": 35,
   "metadata": {},
   "outputs": [],
   "source": [
    "prompt = \"Write a story about Einstein\"\n",
    "messages = [{\"role\": \"user\", \"content\": prompt}]"
   ]
  },
  {
   "cell_type": "code",
   "execution_count": 55,
   "metadata": {},
   "outputs": [],
   "source": [
    "def raw_prompt_without_generation(tokenizer, messages):\n",
    "    return tokenizer.apply_chat_template(\n",
    "        messages, add_generation_prompt=False, enable_thinking=True\n",
    "    )\n",
    "\n",
    "def raw_prompt_with_generation(tokenizer, messages):\n",
    "    return tokenizer.apply_chat_template(\n",
    "        messages, add_generation_prompt=True, enable_thinking=True\n",
    "    )\n",
    "\n",
    "def raw_prompt_without_thinking(tokenizer, messages):\n",
    "    return tokenizer.apply_chat_template(\n",
    "        messages, add_generation_prompt=True, enable_thinking=False\n",
    "    )\n",
    "\n",
    "def raw_prompt_with_system(tokenizer, messages):\n",
    "    updated_messages = [{\"role\": \"system\", \"content\" : 10 * \"You are an AI!\\n\"}] + messages\n",
    "    return tokenizer.apply_chat_template(\n",
    "        updated_messages, add_generation_prompt=True, enable_thinking=True\n",
    "    )"
   ]
  },
  {
   "cell_type": "code",
   "execution_count": 56,
   "metadata": {},
   "outputs": [
    {
     "name": "stdout",
     "output_type": "stream",
     "text": [
      "----------------------------------------------------------------------------------------------------\n",
      "Without Generation:\n",
      "----------------------------------------------------------------------------------------------------\n",
      " <|im_start|>user\n",
      "Write a story about Einstein<|im_end|>\n",
      "\n",
      "----------------------------------------------------------------------------------------------------\n",
      "With Generation:\n",
      "----------------------------------------------------------------------------------------------------\n",
      " <|im_start|>user\n",
      "Write a story about Einstein<|im_end|>\n",
      "<|im_start|>assistant\n",
      "\n",
      "----------------------------------------------------------------------------------------------------\n",
      "Without Thinking:\n",
      "----------------------------------------------------------------------------------------------------\n",
      " <|im_start|>user\n",
      "Write a story about Einstein<|im_end|>\n",
      "<|im_start|>assistant\n",
      "<think>\n",
      "\n",
      "</think>\n",
      "\n",
      "\n",
      "----------------------------------------------------------------------------------------------------\n",
      "With System:\n",
      "----------------------------------------------------------------------------------------------------\n",
      " <|im_start|>system\n",
      "You are an AI!\n",
      "You are an AI!\n",
      "You are an AI!\n",
      "You are an AI!\n",
      "You are an AI!\n",
      "You are an AI!\n",
      "You are an AI!\n",
      "You are an AI!\n",
      "You are an AI!\n",
      "You are an AI!\n",
      "<|im_end|>\n",
      "<|im_start|>user\n",
      "Write a story about Einstein<|im_end|>\n",
      "<|im_start|>assistant\n",
      "\n",
      "----------------------------------------------------------------------------------------------------\n"
     ]
    }
   ],
   "source": [
    "tok_without_generation = raw_prompt_without_generation(tokenizer, messages)\n",
    "tok_with_generation = raw_prompt_with_generation(tokenizer, messages)\n",
    "tok_without_thinking = raw_prompt_without_thinking(tokenizer, messages)\n",
    "tok_with_system = raw_prompt_with_system(tokenizer, messages)\n",
    "\n",
    "print(100 * \"-\")\n",
    "print(\"Without Generation:\\n\" + 100 * \"-\" + \"\\n\", tokenizer.decode(tok_without_generation))\n",
    "print(100 * \"-\")\n",
    "print(\"With Generation:\\n\" + 100 * \"-\" + \"\\n\", tokenizer.decode(tok_with_generation))\n",
    "print(100 * \"-\")\n",
    "print(\"Without Thinking:\\n\" + 100 * \"-\" + \"\\n\", tokenizer.decode(tok_without_thinking))\n",
    "print(100 * \"-\")\n",
    "print(\"With System:\\n\" + 100 * \"-\" + \"\\n\", tokenizer.decode(tok_with_system))\n",
    "print(100 * \"-\")"
   ]
  },
  {
   "cell_type": "code",
   "execution_count": 51,
   "metadata": {},
   "outputs": [],
   "source": [
    "def next_token_preds(model, tokenizer, tokenized_prompt):\n",
    "    for response in stream_generate(model, tokenizer, tokenized_prompt, max_tokens=2**15):\n",
    "        print(response.text, end=\"\", flush=True)\n",
    "    print()\n"
   ]
  },
  {
   "cell_type": "code",
   "execution_count": 52,
   "metadata": {},
   "outputs": [
    {
     "name": "stdout",
     "output_type": "stream",
     "text": [
      "<|im_start|>\n",
      "Okay, I need to write a story about Einstein. Let me think about how to approach this. First, I should decide on the angle. Maybe a fictional story that's not just a biography. Maybe a short story that highlights a particular aspect of his life or a hypothetical scenario. \n",
      "\n",
      "I remember that Einstein was known for his theory of relativity, his work on the photoelectric effect, and his role in the atomic bomb. Also, his personality—his quirks, like the way he spoke, his love for music, and his pacifist views. Maybe I can create a story that shows a day in his life, or perhaps a hypothetical situation where he faces a moral dilemma.\n",
      "\n",
      "Wait, the user might want something engaging and not just a dry account. Maybe a story that's a bit imaginative. Let me think of a scenario. What if Einstein is in a situation where he has to make a choice between scientific discovery and ethical considerations? That could be a good conflict.\n",
      "\n",
      "Alternatively, maybe a story where he interacts with someone else, like a student or a colleague, to show his personality. Or perhaps a story set in a different time, like a parallel universe where he didn't achieve his fame. But that might be too complex.\n",
      "\n",
      "Another idea: a story where Einstein is in a small town, maybe in his younger years, and he's trying to explain his theories to people who don't understand. That could show his perseverance and the challenges he faced.\n",
      "\n",
      "Wait, the user might not want a historical story. Maybe a fictional story where Einstein is in a different context. For example, a story where he's a child, or a story where he's in a different field, like music. But I should stay true to his known traits.\n",
      "\n",
      "Alternatively, a story that combines his scientific work with a personal challenge. For instance, he's working on his theories but also dealing with personal issues, like his family or his health. But I need to make sure the story is accurate and not too fictional.\n",
      "\n",
      "Let me think of a structure. Maybe start with a scene in his office, working on a problem. Then introduce a conflict, like a dilemma about the atomic bomb. Then resolve it with his decision to speak out against its use. That could be a good narrative.\n",
      "\n",
      "Wait, the user might want a more creative story. Maybe a story where Einstein is in a different time, like the future, or a fantasy setting. But I need to be careful not to misrepresent him. Alternatively, a story where he's a mentor to a young scientist, helping them navigate their own challenges.\n",
      "\n",
      "Another angle: a story that shows his thought process. Maybe a day in his life where he's trying to solve a problem, and through a series of events, he arrives at a breakthrough. That could be a good way to illustrate his thinking.\n",
      "\n",
      "I think the best approach is to create a short story that highlights his personality and work, perhaps with a moral or ethical dilemma. Let me outline:\n",
      "\n",
      "- Start with Einstein in his study, working on a problem.\n",
      "- Introduce a conflict, like a decision about the atomic bomb.\n",
      "- Show his internal struggle between scientific curiosity and ethical responsibility.\n",
      "- Resolve it by him choosing to speak out, showing his integrity.\n",
      "\n",
      "That should work. Now, I need to make sure the story is engaging, with some descriptive elements and character development. Avoid making it too technical, but still accurate. Also, include some of his known traits, like his speech patterns, his love for music, etc.\n",
      "\n",
      "Let me start drafting. Maybe set it in 1939, when he was involved with the Manhattan Project. He writes a letter to Roosevelt about the potential of atomic energy. Then, after the bomb is used, he regrets it and becomes an advocate for nuclear disarmament. That's a real historical event, but I can dramatize it into a story.\n",
      "\n",
      "Yes, that could work. The story can show his internal conflict and the consequences of his actions. I can add some personal touches, like his interactions with colleagues, his thoughts on the implications of his work, and his determination to prevent future wars.\n",
      "\n",
      "I need to make sure the story flows well, with a beginning, middle, and end. Maybe start with him in his study, working late, then the conflict arises, he makes a decision, and the resolution shows his impact. That should make for a compelling story.\n",
      "</think>\n",
      "\n",
      "**Title: The Weight of Genius**\n",
      "\n",
      "In the dim glow of a single lamp, Albert Einstein hunched over his desk, the air thick with the scent of old paper and ink. The clock on the wall ticked like a metronome, each second stretching into eternity as he scribbled equations on a yellowed notepad. His mind, a labyrinth of ideas, was fixated on a problem that had haunted him for years: the nature of time itself. But tonight, the weight of the world pressed heavier than physics.\n",
      "\n",
      "The letter from his colleague, Leo Szilard, lay open before him. It spoke of a terrifying possibility: the harnessing of atomic energy could unleash a force capable of ending civilizations. Einstein’s hands trembled as he read the words. He had long been a pacifist, a man who believed in the harmony of the universe, yet here was a weapon that could shatter it.\n",
      "\n",
      "He recalled the day he first heard of the Manhattan Project. A colleague had mentioned a secret research effort in the United States, and Einstein’s heart had sunk. He had always been a man of curiosity, but now, curiosity had turned to dread. The equations he had spent years perfecting—E=mc²—had become a double-edged sword. \n",
      "\n",
      "In the silence of his study, he played a mental melody on the piano, the same one he had composed as a child. Music had always been his refuge, a way to untangle the chaos of the universe. But tonight, the notes felt discordant. He closed his eyes, imagining the bomb’s explosion, the mushroom cloud rising like a ghostly specter over Hiroshima. \n",
      "\n",
      "The next morning, Einstein penned a letter to President Franklin D. Roosevelt, warning of the potential for atomic warfare. It was a decision that would haunt him for decades. He had not intended to spark a new arms race, but the world had other plans. When the bombs fell, Einstein’s hands shook as he read the news, his heart aching with the knowledge that his equations had become instruments of destruction.\n",
      "\n",
      "Years later, as the Cold War loomed, Einstein became a vocal advocate for nuclear disarmament. He spoke at rallies, wrote essays, and lobbied world leaders, his voice a beacon of hope in a world teetering on the brink. Though he had once been a man of equations, he now found his greatest equation in the power of human compassion.\n",
      "\n",
      "In his final years, he often returned to his study, the lamp still casting its warm glow. The equations remained, but so did the questions—about peace, about justice, about the responsibility that came with genius. And in that quiet room, Einstein found solace in the knowledge that even the brightest minds could choose to illuminate the world, not just the universe.\n"
     ]
    }
   ],
   "source": [
    "next_token_preds(model, tokenizer, tok_without_generation)"
   ]
  },
  {
   "cell_type": "code",
   "execution_count": 53,
   "metadata": {},
   "outputs": [
    {
     "name": "stdout",
     "output_type": "stream",
     "text": [
      "<think>\n",
      "Okay, the user wants a story about Einstein. Let me think about how to approach this. First, I need to decide on the angle. Should it be a biographical story, a fictionalized account, or maybe a fable? The user didn't specify, so maybe a biographical story would be safe. But I should make it engaging, not just a list of facts.\n",
      "\n",
      "Einstein's life has many interesting points: his early life, the theory of relativity, his work in Switzerland, his pacifism, and his later years in the US. Maybe focus on a specific event or period. The user might want a narrative that highlights his personality and achievements.\n",
      "\n",
      "I should start with a hook. Maybe a scene from his childhood or a pivotal moment. The famous story about him not talking until age four? Or his thought experiments as a child. That could be a good way to show his curiosity.\n",
      "\n",
      "Then, structure the story chronologically. Early life, education, breakthroughs, personal life, and legacy. But need to keep it concise. Maybe highlight a few key moments. Also, include some of his famous quotes or anecdotes to add depth.\n",
      "\n",
      "Wait, the user might not want just a summary. They might want a story with a narrative flow, maybe a particular incident that showcases his character. For example, the time he was told he was \"mentally challenged\" and how he responded. That could be a compelling story.\n",
      "\n",
      "Or perhaps the story of him playing the violin, which he loved, and how it connected to his thinking. Or his relationship with his family, like his father's business and his mother's influence.\n",
      "\n",
      "I should also consider the audience. If it's for children, the language should be simpler. But since the user didn't specify, maybe keep it general. Avoid too much jargon, but include enough to show his genius.\n",
      "\n",
      "Another angle: the development of his theory of relativity. How he came up with the idea, the thought experiments, the reaction from the scientific community. Maybe dramatize that process.\n",
      "\n",
      "Also, his role in the atomic bomb and his later activism. That's a significant part of his life. But maybe that's more complex. The user might want a positive story, so focus on his contributions and personal qualities.\n",
      "\n",
      "I need to make sure the story is accurate but also engaging. Maybe start with a scene from his youth, show his curiosity, then move to his academic years, his breakthrough, and his impact. End with a reflection on his legacy.\n",
      "\n",
      "Let me outline:\n",
      "\n",
      "1. Childhood: Curious, questions, maybe the delayed speech.\n",
      "2. Education: Struggles with traditional schooling, interest in science.\n",
      "3. Breakthrough: Development of relativity, the thought experiments.\n",
      "4. Personal life: His relationships, pacifism, etc.\n",
      "5. Legacy: His impact on science and society.\n",
      "\n",
      "Now, write the story with these elements, keeping it flowing and engaging. Use descriptive language, maybe some dialogue. Avoid making it too technical. Highlight his character traits: curiosity, persistence, imagination.\n",
      "\n",
      "Check for historical accuracy. For example, he did start speaking later, but the exact age varies. Also, his work on relativity was in 1905, the \"miracle year.\" The photoelectric effect and other contributions. Maybe mention his Nobel Prize.\n",
      "\n",
      "Also, include some of his famous quotes, like \"Imagination is more important than knowledge\" or \"Everything should be made as simple as possible, but no simpler.\"\n",
      "\n",
      "Make sure the story has a beginning, middle, and end. Maybe end with his death and legacy, showing how he's remembered.\n",
      "\n",
      "Okay, time to put it all together into a coherent story.\n",
      "</think>\n",
      "\n",
      "**Title: The Mind That Changed the Universe**  \n",
      "\n",
      "Albert Einstein was not a child who played with toys. At age four, he was already asking questions that no one could answer. “Why do things fall down?” he would demand, staring at a dropped apple with the intensity of a man about to unravel the cosmos. His parents, concerned by his delayed speech, thought he might never speak at all. But by six, he was chattering in riddles, and by ten, he could recite the entire *Moby-Dick* in his head.  \n",
      "\n",
      "In school, however, Einstein was a misfit. The rigid lessons of arithmetic and grammar bored him. He preferred to sketch diagrams of trains and clocks, imagining how time might stretch or shrink as a train sped across the countryside. His teachers called him “mentally challenged,” but his mother, Mileva, a woman of quiet strength, believed in his genius. She once told him, “You must not let them make you small.”  \n",
      "\n",
      "At sixteen, Einstein left his home in Germany to study in Switzerland, where he found freedom to think. In a patent office, he spent his days processing paperwork, but his mind wandered to the stars. He imagined chasing a beam of light, racing it across the universe, and wondered what it would look like to ride alongside it. These thoughts, dismissed by his peers as fanciful, would become the foundation of his theory of relativity.  \n",
      "\n",
      "In 1905, Einstein published five groundbreaking papers in a single year, a feat that would earn him the nickname “The Einstein of the Year.” One paper introduced the idea that energy and mass are interchangeable, a concept that would later fuel the atomic bomb. Another explained the photoelectric effect, earning him the Nobel Prize in Physics. But his most revolutionary work was on relativity: the realization that time is not absolute, but bends with motion and gravity.  \n",
      "\n",
      "Yet Einstein’s mind was not confined to physics. He loved music, playing the violin with a passion that mirrored his scientific curiosity. He believed that art and science were two sides of the same coin, and that imagination was the key to discovery. “If you can’t explain it simply,” he once said, “you don’t understand it well enough.”  \n",
      "\n",
      "As the world plunged into war, Einstein’s pacifism clashed with his scientific fame. He urged the world to abandon nuclear weapons, but his warnings were ignored. In 1933, he fled Nazi Germany for the United States, where he continued his work at the Institute for Advanced Study in Princeton. There, he lived simply, with a small apartment, a violin, and a mind that never stopped questioning.  \n",
      "\n",
      "Einstein died in 1955, at the age of 76, surrounded by his family. His legacy, however, lives on. The theory of relativity reshaped our understanding of the universe, from black holes to the Big Bang. But more than that, Einstein taught us to think differently—to question, to imagine, and to seek truth in the face of uncertainty.  \n",
      "\n",
      "As he once wrote, “The most beautiful thing we can experience is the mysterious. It is the source of all true art and science.” And in that mystery, Einstein’s mind forever changed the world.\n"
     ]
    }
   ],
   "source": [
    "next_token_preds(model, tokenizer, tok_with_generation)"
   ]
  },
  {
   "cell_type": "code",
   "execution_count": 54,
   "metadata": {},
   "outputs": [
    {
     "name": "stdout",
     "output_type": "stream",
     "text": [
      "**The Curious Mind of Albert Einstein**\n",
      "\n",
      "In the quiet town of Ulm, Germany, nestled between the Danube River and the rolling hills of the Swabian Alps, a boy named Albert Einstein was born on March 14, 1879. From an early age, Albert showed a peculiar fascination with the world around him. While other children played with toys, he would spend hours staring at the stars, trying to understand the invisible forces that held the universe together.\n",
      "\n",
      "His parents, Hermann and Pauline Einstein, were not particularly interested in science, but they recognized their son's unusual curiosity. Albert's early education was not without its challenges. He was often described as a quiet, introspective child who preferred the company of books to people. His teachers found him difficult to manage, and he often asked questions that seemed to defy the conventional wisdom of the time.\n",
      "\n",
      "At the age of 12, Albert was given a compass for his birthday. He was mesmerized by the needle that always pointed north, no matter where he was. \"Why does it always point the same way?\" he asked his father. \"Because it's a magnet,\" his father replied. But Albert was not satisfied with that answer. He wanted to know *why* magnets worked, and how they could influence things from a distance. This question would become the foundation of his lifelong quest to understand the fundamental forces of nature.\n",
      "\n",
      "By the time he was 16, Albert had already begun to question the very nature of time and space. He imagined what it would be like to ride alongside a beam of light, and he was struck by the idea that time might not be absolute. This thought experiment would later become the basis of his theory of relativity.\n",
      "\n",
      "In 1905, while working as a patent clerk in Bern, Switzerland, Albert Einstein published four groundbreaking papers that would change the course of physics forever. These papers, known as the \"Annus Mirabilis\" (Miracle Year) papers, introduced the theory of special relativity, the photoelectric effect, and the concept of Brownian motion. These works earned him international recognition and laid the foundation for modern physics.\n",
      "\n",
      "Despite his growing fame, Einstein remained humble and deeply concerned with the ethical implications of his discoveries. He was a pacifist, a humanist, and a believer in the power of reason and critical thinking. He used his influence to speak out against war, racism, and the misuse of science.\n",
      "\n",
      "In 1915, Einstein published his general theory of relativity, which revolutionized our understanding of gravity. He proposed that gravity is not a force, but rather the curvature of spacetime caused by mass. This theory was confirmed in 1919 when astronomers observed the bending of starlight around the sun during a solar eclipse, a discovery that made Einstein a household name.\n",
      "\n",
      "Throughout his life, Einstein continued to explore the mysteries of the universe. He was fascinated by the idea of a unified field theory, a single framework that could explain all the fundamental forces of nature. Though he never completed this theory, his work inspired generations of scientists to pursue the same dream.\n",
      "\n",
      "Albert Einstein passed away on April 18, 1955, in Princeton, New Jersey, at the age of 76. But his legacy lives on. His theories continue to shape our understanding of the universe, and his ideas about the nature of reality, time, and space remain as relevant today as they were over a century ago.\n",
      "\n",
      "In the end, Albert Einstein was not just a scientist. He was a dreamer, a thinker, and a visionary who saw the world not as it was, but as it could be. And in that vision, he found the truth.\n"
     ]
    }
   ],
   "source": [
    "next_token_preds(model, tokenizer, tok_without_thinking)"
   ]
  },
  {
   "cell_type": "code",
   "execution_count": null,
   "metadata": {},
   "outputs": [],
   "source": []
  }
 ],
 "metadata": {
  "kernelspec": {
   "display_name": ".ml-env",
   "language": "python",
   "name": "python3"
  },
  "language_info": {
   "codemirror_mode": {
    "name": "ipython",
    "version": 3
   },
   "file_extension": ".py",
   "mimetype": "text/x-python",
   "name": "python",
   "nbconvert_exporter": "python",
   "pygments_lexer": "ipython3",
   "version": "3.12.4"
  }
 },
 "nbformat": 4,
 "nbformat_minor": 2
}
