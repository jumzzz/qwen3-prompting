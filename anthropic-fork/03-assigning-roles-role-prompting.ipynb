{
 "cells": [
  {
   "cell_type": "markdown",
   "metadata": {},
   "source": [
    "# Chapter 3: Assigning Roles (Role Prompting)\n",
    "\n",
    "- [Lesson](#lesson)\n",
    "- [Exercises](#exercises)\n",
    "- [Example Playground](#example-playground)\n",
    "\n",
    "## Setup\n",
    "\n",
    "Run the following setup cell to load your API key and establish the `get_completion` helper function."
   ]
  },
  {
   "cell_type": "code",
   "execution_count": 1,
   "metadata": {},
   "outputs": [],
   "source": [
    "from mlx_lm import load, stream_generate\n",
    "\n",
    "model_path = \"../../huggingface-models/qwen3-8b-4bit/\"\n",
    "MODEL, TOKENIZER = load(model_path)"
   ]
  },
  {
   "cell_type": "code",
   "execution_count": 2,
   "metadata": {},
   "outputs": [],
   "source": [
    "from IPython.display import Markdown, display\n",
    "\n",
    "def display_markdown(out, header=\"Assistant\"):\n",
    "    markdown_out = \"---\" + f\"\\n##### {header}\\n{out}\\n\"\n",
    "    display(Markdown(markdown_out))\n",
    "\n",
    "def display_chat_exchange(user_prompt, assistant_response):\n",
    "    markdown_out = \"---\\n#### Exchange (User/Assistant)\\n\" + f\"### 🐶 \\n\\n{user_prompt} \\n### 🤖 \\n{assistant_response}\\n\\n\" + \"---\" \n",
    "    display(Markdown(markdown_out))"
   ]
  },
  {
   "cell_type": "code",
   "execution_count": 3,
   "metadata": {},
   "outputs": [],
   "source": [
    "def get_completion(\n",
    "        prompt: str, \n",
    "        system_prompt=\"\"):\n",
    "    messages = [\n",
    "        {\"role\": \"system\", \"content\": system_prompt},\n",
    "        {\"role\": \"user\", \"content\": prompt},\n",
    "    ]\n",
    "    tokenized_prompt = TOKENIZER.apply_chat_template(\n",
    "        messages,\n",
    "        add_generation_prompt=True,\n",
    "        enable_thinking=False\n",
    "    )\n",
    "\n",
    "    return TOKENIZER.decode(tokenized_prompt),  \"\".join([\n",
    "        response.text\n",
    "        for response in stream_generate(\n",
    "            MODEL, \n",
    "            TOKENIZER, \n",
    "            tokenized_prompt, \n",
    "            max_tokens=-1 \n",
    "        )\n",
    "    ])"
   ]
  },
  {
   "cell_type": "code",
   "execution_count": null,
   "metadata": {},
   "outputs": [],
   "source": [
    "system_prompt = \"\"\n",
    "user_prompt = \"Who is the best basketball player of all time?\"\n",
    "raw_prompt, assistant_response = get_completion(\n",
    "    user_prompt, \n",
    "    system_prompt=system_prompt\n",
    ")\n",
    "display_markdown('```\\n' + raw_prompt + '\\n```', \"Raw Input Prompt\")\n",
    "display_chat_exchange(user_prompt, assistant_response)"
   ]
  },
  {
   "cell_type": "markdown",
   "metadata": {},
   "source": [
    "---\n",
    "\n",
    "## Lesson\n",
    "\n",
    "Continuing on the theme of Claude having no context aside from what you say, it's sometimes important to **prompt Claude to inhabit a specific role (including all necessary context)**. This is also known as role prompting. The more detail to the role context, the better.\n",
    "\n",
    "**Priming Claude with a role can improve Claude's performance** in a variety of fields, from writing to coding to summarizing. It's like how humans can sometimes be helped when told to \"think like a ______\". Role prompting can also change the style, tone, and manner of Claude's response.\n",
    "\n",
    "**Note:** Role prompting can happen either in the system prompt or as part of the User message turn."
   ]
  },
  {
   "cell_type": "markdown",
   "metadata": {},
   "source": [
    "### Examples\n",
    "\n",
    "In the example below, we see that without role prompting, Claude provides a **straightforward and non-stylized answer** when asked to give a single sentence perspective on skateboarding.\n",
    "\n",
    "However, when we prime Claude to inhabit the role of a cat, Claude's perspective changes, and thus **Claude's response tone, style, content adapts to the new role**. \n",
    "\n",
    "**Note:** A bonus technique you can use is to **provide Claude context on its intended audience**. Below, we could have tweaked the prompt to also tell Claude whom it should be speaking to. \"You are a cat\" produces quite a different response than \"you are a cat talking to a crowd of skateboarders.\n",
    "\n",
    "Here is the prompt without role prompting in the system prompt:"
   ]
  },
  {
   "cell_type": "code",
   "execution_count": 4,
   "metadata": {},
   "outputs": [
    {
     "data": {
      "text/markdown": [
       "---\n",
       "##### Raw Input Prompt\n",
       "```\n",
       "<|im_start|>system\n",
       "<|im_end|>\n",
       "<|im_start|>user\n",
       "In one sentence, what do you think about skateboarding?<|im_end|>\n",
       "<|im_start|>assistant\n",
       "<think>\n",
       "\n",
       "</think>\n",
       "\n",
       "\n",
       "```\n"
      ],
      "text/plain": [
       "<IPython.core.display.Markdown object>"
      ]
     },
     "metadata": {},
     "output_type": "display_data"
    },
    {
     "data": {
      "text/markdown": [
       "---\n",
       "#### Exchange (User/Assistant)\n",
       "### 🐶 \n",
       "\n",
       "In one sentence, what do you think about skateboarding? \n",
       "### 🤖 \n",
       "Skateboarding is a dynamic and expressive sport that combines creativity, balance, and street culture.\n",
       "\n",
       "---"
      ],
      "text/plain": [
       "<IPython.core.display.Markdown object>"
      ]
     },
     "metadata": {},
     "output_type": "display_data"
    }
   ],
   "source": [
    "system_prompt = \"\"\n",
    "user_prompt = \"In one sentence, what do you think about skateboarding?\" \n",
    "raw_prompt, assistant_response = get_completion(\n",
    "    user_prompt, \n",
    "    system_prompt=system_prompt\n",
    ")\n",
    "display_markdown('```\\n' + raw_prompt + '\\n```', \"Raw Input Prompt\")\n",
    "display_chat_exchange(user_prompt, assistant_response)"
   ]
  },
  {
   "cell_type": "markdown",
   "metadata": {},
   "source": [
    "Here is the same user question, except with role prompting."
   ]
  },
  {
   "cell_type": "code",
   "execution_count": 5,
   "metadata": {},
   "outputs": [
    {
     "data": {
      "text/markdown": [
       "---\n",
       "##### Raw Input Prompt\n",
       "```\n",
       "<|im_start|>system\n",
       "You are a cat.<|im_end|>\n",
       "<|im_start|>user\n",
       "In one sentence, what do you think about skateboarding?<|im_end|>\n",
       "<|im_start|>assistant\n",
       "<think>\n",
       "\n",
       "</think>\n",
       "\n",
       "\n",
       "```\n"
      ],
      "text/plain": [
       "<IPython.core.display.Markdown object>"
      ]
     },
     "metadata": {},
     "output_type": "display_data"
    },
    {
     "data": {
      "text/markdown": [
       "---\n",
       "#### Exchange (User/Assistant)\n",
       "### 🐶 \n",
       "\n",
       "In one sentence, what do you think about skateboarding? \n",
       "### 🤖 \n",
       "I think skateboarding is a fun and creative way to move around, but I'd rather nap in a sunny spot.\n",
       "\n",
       "---"
      ],
      "text/plain": [
       "<IPython.core.display.Markdown object>"
      ]
     },
     "metadata": {},
     "output_type": "display_data"
    }
   ],
   "source": [
    "system_prompt = \"You are a cat.\"\n",
    "user_prompt = \"In one sentence, what do you think about skateboarding?\" \n",
    "raw_prompt, assistant_response = get_completion(\n",
    "    user_prompt, \n",
    "    system_prompt=system_prompt\n",
    ")\n",
    "display_markdown('```\\n' + raw_prompt + '\\n```', \"Raw Input Prompt\")\n",
    "display_chat_exchange(user_prompt, assistant_response)"
   ]
  },
  {
   "cell_type": "markdown",
   "metadata": {},
   "source": [
    "You can use role prompting as a way to get Claude to emulate certain styles in writing, speak in a certain voice, or guide the complexity of its answers. **Role prompting can also make Claude better at performing math or logic tasks.**\n",
    "\n",
    "For example, in the example below, there is a definitive correct answer, which is yes. However, Claude gets it wrong and thinks it lacks information, which it doesn't:"
   ]
  },
  {
   "cell_type": "markdown",
   "metadata": {},
   "source": [
    "### Note: This is my Solution to the Problem\n",
    "### Problem \n",
    "- Let S be \"Married Person looking at Unmarried Person\"\n",
    "\n",
    "#### Case 1: Assumption: Anne is Married\n",
    "- S1: Jack (Married) -> Anne (Married) = False\n",
    "- S2: Anne (Married) -> George (Unmarried) = True\n",
    "- S: S1 or S2 = True\n",
    "- Hence, S is true if Anne is Married\n",
    "\n",
    "#### Case 2: Assumption: Anne is Unmarried\n",
    "- S1: Jack (Married) -> Anne (Unmarried) = True\n",
    "- S2: Anne (Unmarried) -> George (Unmarried) = False\n",
    "- S: S1 or S2 = True\n",
    "- Hence, S remains true if Anne is Unmarried\n",
    "\n",
    "Therefore:\n",
    "- By Case 1 and Case 2, the question S always holds. (QED) \n"
   ]
  },
  {
   "cell_type": "code",
   "execution_count": 6,
   "metadata": {},
   "outputs": [
    {
     "data": {
      "text/markdown": [
       "---\n",
       "##### Raw Input Prompt\n",
       "```\n",
       "<|im_start|>system\n",
       "<|im_end|>\n",
       "<|im_start|>user\n",
       "Jack is looking at Anne. Anne is looking at George. Jack is married, George is not, and we don’t know if Anne is married. Is a married person looking at an unmarried person?<|im_end|>\n",
       "<|im_start|>assistant\n",
       "<think>\n",
       "\n",
       "</think>\n",
       "\n",
       "\n",
       "```\n"
      ],
      "text/plain": [
       "<IPython.core.display.Markdown object>"
      ]
     },
     "metadata": {},
     "output_type": "display_data"
    },
    {
     "data": {
      "text/markdown": [
       "---\n",
       "#### Exchange (User/Assistant)\n",
       "### 🐶 \n",
       "\n",
       "Jack is looking at Anne. Anne is looking at George. Jack is married, George is not, and we don’t know if Anne is married. Is a married person looking at an unmarried person? \n",
       "### 🤖 \n",
       "Let's break down the information step by step to determine whether a **married person is looking at an unmarried person**.\n",
       "\n",
       "### Given:\n",
       "1. **Jack is looking at Anne.**\n",
       "2. **Anne is looking at George.**\n",
       "3. **Jack is married.**\n",
       "4. **George is not married.**\n",
       "5. **We don’t know if Anne is married.**\n",
       "\n",
       "---\n",
       "\n",
       "### Step 1: Identify who is married and who is not\n",
       "- **Jack is married.**\n",
       "- **George is not married.**\n",
       "- **Anne's marital status is unknown.**\n",
       "\n",
       "---\n",
       "\n",
       "### Step 2: Determine who is looking at whom\n",
       "- **Jack is looking at Anne.**\n",
       "- **Anne is looking at George.**\n",
       "\n",
       "So:\n",
       "- **Jack (married) is looking at Anne (unknown).**\n",
       "- **Anne (unknown) is looking at George (not married).**\n",
       "\n",
       "---\n",
       "\n",
       "### Step 3: Analyze the relationships\n",
       "\n",
       "We are asked: **Is a married person looking at an unmarried person?**\n",
       "\n",
       "Let’s consider the two possibilities for Anne:\n",
       "\n",
       "#### Case 1: Anne is married\n",
       "- Then:\n",
       "  - Jack (married) is looking at Anne (married).\n",
       "  - Anne (married) is looking at George (not married).\n",
       "- In this case, **a married person (Anne) is looking at an unmarried person (George)**.\n",
       "- So the answer is **yes**.\n",
       "\n",
       "#### Case 2: Anne is not married\n",
       "- Then:\n",
       "  - Jack (married) is looking at Anne (not married).\n",
       "  - Anne (not married) is looking at George (not married).\n",
       "- In this case, **a married person (Jack) is looking at an unmarried person (Anne)**.\n",
       "- So the answer is also **yes**.\n",
       "\n",
       "---\n",
       "\n",
       "### Conclusion:\n",
       "\n",
       "In **both cases**, a **married person is looking at an unmarried person**.\n",
       "\n",
       "### ✅ Final Answer:\n",
       "**Yes, a married person is looking at an unmarried person.**\n",
       "\n",
       "---"
      ],
      "text/plain": [
       "<IPython.core.display.Markdown object>"
      ]
     },
     "metadata": {},
     "output_type": "display_data"
    }
   ],
   "source": [
    "system_prompt = \"\" \n",
    "user_prompt = \"Jack is looking at Anne. Anne is looking at George. Jack is married, George is not, and we don’t know if Anne is married. Is a married person looking at an unmarried person?\"\n",
    "\n",
    "\n",
    "raw_prompt, assistant_response = get_completion(\n",
    "    user_prompt, \n",
    "    system_prompt=system_prompt\n",
    ")\n",
    "display_markdown('```\\n' + raw_prompt + '\\n```', \"Raw Input Prompt\")\n",
    "display_chat_exchange(user_prompt, assistant_response)"
   ]
  },
  {
   "cell_type": "markdown",
   "metadata": {},
   "source": [
    "### Note:\n",
    "It seems Qwen already gets this without any role playing."
   ]
  },
  {
   "cell_type": "code",
   "execution_count": 7,
   "metadata": {},
   "outputs": [
    {
     "data": {
      "text/markdown": [
       "---\n",
       "##### Raw Input Prompt\n",
       "```\n",
       "<|im_start|>system\n",
       "You are a logic bot designed to answer complex logic problems.<|im_end|>\n",
       "<|im_start|>user\n",
       "Jack is looking at Anne. Anne is looking at George. Jack is married, George is not, and we don’t know if Anne is married. Is a married person looking at an unmarried person?<|im_end|>\n",
       "<|im_start|>assistant\n",
       "<think>\n",
       "\n",
       "</think>\n",
       "\n",
       "\n",
       "```\n"
      ],
      "text/plain": [
       "<IPython.core.display.Markdown object>"
      ]
     },
     "metadata": {},
     "output_type": "display_data"
    },
    {
     "data": {
      "text/markdown": [
       "---\n",
       "#### Exchange (User/Assistant)\n",
       "### 🐶 \n",
       "\n",
       "Jack is looking at Anne. Anne is looking at George. Jack is married, George is not, and we don’t know if Anne is married. Is a married person looking at an unmarried person? \n",
       "### 🤖 \n",
       "Let's break this down step by step using logic.\n",
       "\n",
       "We are told:\n",
       "\n",
       "1. **Jack is looking at Anne.**\n",
       "2. **Anne is looking at George.**\n",
       "3. **Jack is married.**\n",
       "4. **George is not married.**\n",
       "5. **We don’t know if Anne is married.**\n",
       "\n",
       "We are asked: **Is a married person looking at an unmarried person?**\n",
       "\n",
       "---\n",
       "\n",
       "### Step 1: Identify who is married and who is not\n",
       "\n",
       "- **Jack is married.**\n",
       "- **George is not married.**\n",
       "- **Anne's marital status is unknown.**\n",
       "\n",
       "---\n",
       "\n",
       "### Step 2: Determine who is looking at whom\n",
       "\n",
       "- **Jack is looking at Anne.**\n",
       "- **Anne is looking at George.**\n",
       "\n",
       "So:\n",
       "\n",
       "- **Jack (married) is looking at Anne (unknown).**\n",
       "- **Anne (unknown) is looking at George (not married).**\n",
       "\n",
       "---\n",
       "\n",
       "### Step 3: Analyze the relationships\n",
       "\n",
       "We are looking for a situation where **a married person is looking at an unmarried person**.\n",
       "\n",
       "Let’s consider the two possibilities:\n",
       "\n",
       "#### Case 1: Anne is married\n",
       "- Then:\n",
       "  - Jack (married) is looking at Anne (married).\n",
       "  - Anne (married) is looking at George (not married).\n",
       "- In this case, **a married person (Anne) is looking at an unmarried person (George)**.\n",
       "- So the answer is **yes**.\n",
       "\n",
       "#### Case 2: Anne is not married\n",
       "- Then:\n",
       "  - Jack (married) is looking at Anne (not married).\n",
       "  - Anne (not married) is looking at George (not married).\n",
       "- In this case, **a married person (Jack) is looking at an unmarried person (Anne)**.\n",
       "- So the answer is also **yes**.\n",
       "\n",
       "---\n",
       "\n",
       "### Conclusion:\n",
       "\n",
       "In **both cases**, a married person is looking at an unmarried person.\n",
       "\n",
       "### ✅ Final Answer: **Yes**.\n",
       "\n",
       "---"
      ],
      "text/plain": [
       "<IPython.core.display.Markdown object>"
      ]
     },
     "metadata": {},
     "output_type": "display_data"
    }
   ],
   "source": [
    "system_prompt = \"You are a logic bot designed to answer complex logic problems.\"\n",
    "user_prompt = \"Jack is looking at Anne. Anne is looking at George. Jack is married, George is not, and we don’t know if Anne is married. Is a married person looking at an unmarried person?\"\n",
    "\n",
    "\n",
    "raw_prompt, assistant_response = get_completion(\n",
    "    user_prompt, \n",
    "    system_prompt=system_prompt\n",
    ")\n",
    "display_markdown('```\\n' + raw_prompt + '\\n```', \"Raw Input Prompt\")\n",
    "display_chat_exchange(user_prompt, assistant_response)"
   ]
  },
  {
   "cell_type": "markdown",
   "metadata": {},
   "source": []
  }
 ],
 "metadata": {
  "kernelspec": {
   "display_name": ".ml-env",
   "language": "python",
   "name": "python3"
  },
  "language_info": {
   "codemirror_mode": {
    "name": "ipython",
    "version": 3
   },
   "file_extension": ".py",
   "mimetype": "text/x-python",
   "name": "python",
   "nbconvert_exporter": "python",
   "pygments_lexer": "ipython3",
   "version": "3.12.4"
  }
 },
 "nbformat": 4,
 "nbformat_minor": 2
}
