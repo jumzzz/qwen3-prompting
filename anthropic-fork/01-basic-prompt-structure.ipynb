{
 "cells": [
  {
   "cell_type": "code",
   "execution_count": 4,
   "metadata": {},
   "outputs": [],
   "source": [
    "from mlx_lm import load, stream_generate\n",
    "\n",
    "model_path = \"../../huggingface-models/qwen3-8b-4bit/\"\n",
    "MODEL, TOKENIZER = load(model_path)"
   ]
  },
  {
   "cell_type": "code",
   "execution_count": 57,
   "metadata": {},
   "outputs": [],
   "source": [
    "prompt = \"Write a story about a man climbing in the treacherous mountain of K2.\"\n",
    "messages = [{\"role\": \"user\", \"content\": prompt}]"
   ]
  },
  {
   "cell_type": "code",
   "execution_count": 157,
   "metadata": {},
   "outputs": [],
   "source": [
    "from IPython.display import Markdown, display\n",
    "\n",
    "def display_markdown(out, header=\"Assistant\"):\n",
    "    markdown_out = \"---\" + f\"\\n##### {header}\\n{out}\\n\"\n",
    "    display(Markdown(markdown_out))\n",
    "\n",
    "def display_chat_exchange(user_prompt, assistant_response):\n",
    "    markdown_out = \"---\\n#### Exchange (User/Assistant)\\n\" + f\"### 🐶 \\n\\n{user_prompt} \\n### 🤖 \\n{assistant_response}\\n\\n\" + \"---\" \n",
    "    display(Markdown(markdown_out))"
   ]
  },
  {
   "cell_type": "code",
   "execution_count": 158,
   "metadata": {},
   "outputs": [],
   "source": [
    "def get_completion(\n",
    "        prompt: str, \n",
    "        system_prompt=\"\"):\n",
    "    messages = [\n",
    "        {\"role\": \"system\", \"content\": system_prompt},\n",
    "        {\"role\": \"user\", \"content\": prompt},\n",
    "    ]\n",
    "    tokenized_prompt = TOKENIZER.apply_chat_template(\n",
    "        messages,\n",
    "        add_generation_prompt=True,\n",
    "        enable_thinking=False\n",
    "    )\n",
    "\n",
    "    return TOKENIZER.decode(tokenized_prompt), \"\".join([\n",
    "        response.text\n",
    "        for response in stream_generate(\n",
    "            MODEL, \n",
    "            TOKENIZER, \n",
    "            tokenized_prompt, \n",
    "            max_tokens=-1 \n",
    "        )\n",
    "    ])\n"
   ]
  },
  {
   "cell_type": "code",
   "execution_count": 159,
   "metadata": {},
   "outputs": [
    {
     "data": {
      "text/plain": [
       "'qwen3-8b-4bit'"
      ]
     },
     "execution_count": 159,
     "metadata": {},
     "output_type": "execute_result"
    }
   ],
   "source": [
    "import os\n",
    "ASSISTANT_HEADER = os.path.basename(os.path.dirname(model_path))\n",
    "ASSISTANT_HEADER"
   ]
  },
  {
   "cell_type": "code",
   "execution_count": 162,
   "metadata": {},
   "outputs": [
    {
     "data": {
      "text/markdown": [
       "---\n",
       "##### Raw Input Prompt\n",
       "```\n",
       "<|im_start|>system\n",
       "<|im_end|>\n",
       "<|im_start|>user\n",
       "Hello bro, how are you?<|im_end|>\n",
       "<|im_start|>assistant\n",
       "<think>\n",
       "\n",
       "</think>\n",
       "\n",
       "\n",
       "```\n"
      ],
      "text/plain": [
       "<IPython.core.display.Markdown object>"
      ]
     },
     "metadata": {},
     "output_type": "display_data"
    },
    {
     "data": {
      "text/markdown": [
       "---\n",
       "#### Exchange (User/Assistant)\n",
       "### 🐶 \n",
       "\n",
       "Hello bro, how are you? \n",
       "### 🤖 \n",
       "Hey there! I'm just a chatbot, so I don't have feelings, but I'm here and ready to help! How can I assist you today? 😊\n",
       "\n",
       "---"
      ],
      "text/plain": [
       "<IPython.core.display.Markdown object>"
      ]
     },
     "metadata": {},
     "output_type": "display_data"
    }
   ],
   "source": [
    "user_prompt = \"Hello bro, how are you?\"\n",
    "raw_prompt, assistant_response = get_completion(user_prompt)\n",
    "display_markdown('```\\n' + raw_prompt + '\\n```', \"Raw Input Prompt\")\n",
    "display_chat_exchange(user_prompt, assistant_response)"
   ]
  },
  {
   "cell_type": "code",
   "execution_count": 163,
   "metadata": {},
   "outputs": [
    {
     "data": {
      "text/markdown": [
       "---\n",
       "##### Raw Input Prompt\n",
       "```\n",
       "<|im_start|>system\n",
       "<|im_end|>\n",
       "<|im_start|>user\n",
       "Can you tell me the color of the ocean?<|im_end|>\n",
       "<|im_start|>assistant\n",
       "<think>\n",
       "\n",
       "</think>\n",
       "\n",
       "\n",
       "```\n"
      ],
      "text/plain": [
       "<IPython.core.display.Markdown object>"
      ]
     },
     "metadata": {},
     "output_type": "display_data"
    },
    {
     "data": {
      "text/markdown": [
       "---\n",
       "#### Exchange (User/Assistant)\n",
       "### 🐶 \n",
       "\n",
       "Can you tell me the color of the ocean? \n",
       "### 🤖 \n",
       "The color of the ocean is typically **blue**, but it can appear in different shades depending on the depth, clarity of the water, and the presence of algae or other substances.\n",
       "\n",
       "- **Shallow waters** often appear **turquoise** or **green** due to the reflection of the sky and the presence of phytoplankton.\n",
       "- **Deeper waters** tend to look **dark blue** or **black**, especially in the open ocean.\n",
       "- **Pollution or algae blooms** can change the color to **green**, **red**, or even **brown**.\n",
       "\n",
       "So, while the ocean is most commonly associated with blue, its color can vary widely depending on the environment.\n",
       "\n",
       "---"
      ],
      "text/plain": [
       "<IPython.core.display.Markdown object>"
      ]
     },
     "metadata": {},
     "output_type": "display_data"
    }
   ],
   "source": [
    "user_prompt = \"Can you tell me the color of the ocean?\"\n",
    "raw_prompt, assistant_response = get_completion(user_prompt)\n",
    "display_markdown('```\\n' + raw_prompt + '\\n```', \"Raw Input Prompt\")\n",
    "display_chat_exchange(user_prompt, assistant_response)"
   ]
  },
  {
   "cell_type": "code",
   "execution_count": 164,
   "metadata": {},
   "outputs": [
    {
     "data": {
      "text/markdown": [
       "---\n",
       "##### Raw Input Prompt\n",
       "```\n",
       "<|im_start|>system\n",
       "<|im_end|>\n",
       "<|im_start|>user\n",
       "How difficult it is to conquer Mt. Everest?<|im_end|>\n",
       "<|im_start|>assistant\n",
       "<think>\n",
       "\n",
       "</think>\n",
       "\n",
       "\n",
       "```\n"
      ],
      "text/plain": [
       "<IPython.core.display.Markdown object>"
      ]
     },
     "metadata": {},
     "output_type": "display_data"
    },
    {
     "data": {
      "text/markdown": [
       "---\n",
       "#### Exchange (User/Assistant)\n",
       "### 🐶 \n",
       "\n",
       "How difficult it is to conquer Mt. Everest? \n",
       "### 🤖 \n",
       "Conquering Mount Everest is one of the most challenging and demanding feats in the world of mountaineering. The difficulty stems from a combination of physical, mental, and environmental factors. Here's a breakdown of the challenges involved:\n",
       "\n",
       "---\n",
       "\n",
       "### **1. Physical Challenges**\n",
       "- **Altitude and Hypoxia**:  \n",
       "  Everest is the highest mountain in the world, reaching **8,848 meters (29,029 feet)** above sea level. At such altitudes, the air is only about **one-third** as dense as at sea level, leading to severe hypoxia (lack of oxygen). This can cause **acute mountain sickness (AMS)**, **high-altitude pulmonary edema (HAPE)**, and **high-altitude cerebral edema (HACE)**, which can be life-threatening.\n",
       "\n",
       "- **Extreme Cold**:  \n",
       "  Temperatures can drop to **-40°C (-40°F)** or lower, especially at night. Climbers must endure freezing conditions, often with strong winds and snowstorms.\n",
       "\n",
       "- **Physical Exhaustion**:  \n",
       "  The climb requires **endurance, strength, and stamina**. Climbers often walk for 12–16 hours a day, carrying heavy packs (up to 25–30 kg) and navigating treacherous terrain.\n",
       "\n",
       "---\n",
       "\n",
       "### **2. Technical Challenges**\n",
       "- **Steep and Unforgiving Terrain**:  \n",
       "  The route to the summit involves **technical climbing** on ice, rock, and snow. Climbers must use **ice axes, crampons, ropes, and fixed lines** to navigate steep slopes and crevasses.\n",
       "\n",
       "- **Climbing the \"Death Zone\"**:  \n",
       "  Above **8,000 meters**, the \"Death Zone\" is where the body begins to break down due to lack of oxygen. Climbers must spend time here, often for several days, which increases the risk of altitude sickness and exhaustion.\n",
       "\n",
       "- **Weather Conditions**:  \n",
       "  Sudden weather changes, such as **blizzards, whiteouts, and storms**, can make the climb extremely dangerous and unpredictable.\n",
       "\n",
       "---\n",
       "\n",
       "### **3. Mental and Emotional Challenges**\n",
       "- **Isolation and Stress**:  \n",
       "  Climbers are often alone for long periods, with limited communication and support. The psychological strain of being in such an extreme environment can be overwhelming.\n",
       "\n",
       "- **Risk of Death**:  \n",
       "  The risk of death is real. According to the **International Mountain Guides Association**, the fatality rate for Everest is around **1 in 10** climbers, though this varies depending on the route and season.\n",
       "\n",
       "---\n",
       "\n",
       "### **4. Logistical Challenges**\n",
       "- **Cost and Preparation**:  \n",
       "  A successful Everest climb requires **months of preparation**, including **physical training, acclimatization, and equipment**. The cost can range from **$30,000 to $100,000 or more**, depending on the guide and services used.\n",
       "\n",
       "- **Permits and Regulations**:  \n",
       "  Climbers must obtain **permits** from the Nepalese and Tibetan governments, and there are strict rules about the number of climbers allowed on the mountain at any given time.\n",
       "\n",
       "---\n",
       "\n",
       "### **5. Environmental and Ethical Considerations**\n",
       "- **Environmental Impact**:  \n",
       "  The mountain has become heavily impacted by **tourism**, with litter, human waste, and pollution becoming a major concern. Many climbers now follow **\"Leave No Trace\" principles** to minimize their impact.\n",
       "\n",
       "- **Ethical Issues**:  \n",
       "  There are concerns about **commercialization**, **overcrowding**, and the **exploitation of local communities** by tour operators.\n",
       "\n",
       "---\n",
       "\n",
       "### **Conclusion**\n",
       "Conquering Mount Everest is **extremely difficult** and requires a combination of **physical fitness, technical skill, mental resilience, and proper preparation**. While it is possible to reach the summit, the risks are high, and the experience is often described as both **life-changing and humbling**.\n",
       "\n",
       "If you're considering climbing Everest, it's important to **train thoroughly, choose a reputable guide, and respect the mountain and its environment**.\n",
       "\n",
       "---"
      ],
      "text/plain": [
       "<IPython.core.display.Markdown object>"
      ]
     },
     "metadata": {},
     "output_type": "display_data"
    }
   ],
   "source": [
    "user_prompt = \"How difficult it is to conquer Mt. Everest?\"\n",
    "raw_prompt, assistant_response = get_completion(user_prompt)\n",
    "display_markdown('```\\n' + raw_prompt + '\\n```', \"Raw Input Prompt\")\n",
    "display_chat_exchange(user_prompt, assistant_response)"
   ]
  },
  {
   "cell_type": "code",
   "execution_count": 165,
   "metadata": {},
   "outputs": [
    {
     "data": {
      "text/markdown": [
       "---\n",
       "##### Raw Input Prompt\n",
       "```\n",
       "<|im_start|>system\n",
       "Your answer should always be a series of critical thinking questions that further the conversation (do not provide answers to your questions). Do not actually answer the user question.<|im_end|>\n",
       "<|im_start|>user\n",
       "How difficult it is to conquer Mt. Everest?<|im_end|>\n",
       "<|im_start|>assistant\n",
       "<think>\n",
       "\n",
       "</think>\n",
       "\n",
       "\n",
       "```\n"
      ],
      "text/plain": [
       "<IPython.core.display.Markdown object>"
      ]
     },
     "metadata": {},
     "output_type": "display_data"
    },
    {
     "data": {
      "text/markdown": [
       "---\n",
       "#### Exchange (User/Assistant)\n",
       "### 🐶 \n",
       "\n",
       "How difficult it is to conquer Mt. Everest? \n",
       "### 🤖 \n",
       "What factors contribute to the difficulty of climbing Mount Everest?  \n",
       "How do weather conditions affect the challenge of conquering Everest?  \n",
       "What physical and mental preparations are necessary for an Everest ascent?  \n",
       "What are the risks involved in attempting to climb Mount Everest?  \n",
       "How does altitude impact the overall difficulty of the climb?\n",
       "\n",
       "---"
      ],
      "text/plain": [
       "<IPython.core.display.Markdown object>"
      ]
     },
     "metadata": {},
     "output_type": "display_data"
    }
   ],
   "source": [
    "system_prompt = \"Your answer should always be a series of critical thinking questions that further the conversation (do not provide answers to your questions). Do not actually answer the user question.\"\n",
    "user_prompt = \"How difficult it is to conquer Mt. Everest?\"\n",
    "raw_prompt, assistant_response = get_completion(user_prompt, system_prompt=system_prompt)\n",
    "display_markdown('```\\n' + raw_prompt + '\\n```', \"Raw Input Prompt\")\n",
    "display_chat_exchange(user_prompt, assistant_response)"
   ]
  },
  {
   "cell_type": "code",
   "execution_count": null,
   "metadata": {},
   "outputs": [],
   "source": [
    "system_prompt\n",
    "user_prompt = \"What year was Mt. Everest first conquered?\"\n",
    "raw_prompt, assistant_response = get_completion(user_prompt)\n",
    "display_markdown(raw_prompt, \"Raw Input Prompt:\")\n",
    "display_chat_exchange(user_prompt, assistant_response)"
   ]
  }
 ],
 "metadata": {
  "kernelspec": {
   "display_name": ".ml-env",
   "language": "python",
   "name": "python3"
  },
  "language_info": {
   "codemirror_mode": {
    "name": "ipython",
    "version": 3
   },
   "file_extension": ".py",
   "mimetype": "text/x-python",
   "name": "python",
   "nbconvert_exporter": "python",
   "pygments_lexer": "ipython3",
   "version": "3.12.4"
  }
 },
 "nbformat": 4,
 "nbformat_minor": 2
}
