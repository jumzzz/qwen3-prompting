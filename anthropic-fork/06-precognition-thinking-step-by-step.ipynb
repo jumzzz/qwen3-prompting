{
 "cells": [
  {
   "cell_type": "markdown",
   "metadata": {},
   "source": [
    "# Chapter 6: Precognition (Thinking Step by Step)\n",
    "\n",
    "- [Lesson](#lesson)\n",
    "- [Exercises](#exercises)\n",
    "- [Example Playground](#example-playground)\n",
    "\n",
    "## Setup\n",
    "\n",
    "Run the following setup cell to load your API key and establish the `get_completion` helper function."
   ]
  },
  {
   "cell_type": "code",
   "execution_count": 1,
   "metadata": {},
   "outputs": [],
   "source": [
    "import re\n",
    "from mlx_lm import load, stream_generate\n",
    "\n",
    "model_path = \"../../huggingface-models/qwen3-8b-4bit/\"\n",
    "MODEL, TOKENIZER = load(model_path)"
   ]
  },
  {
   "cell_type": "code",
   "execution_count": 3,
   "metadata": {},
   "outputs": [],
   "source": [
    "from IPython.display import Markdown, display\n",
    "\n",
    "def display_markdown(out, header=\"Assistant\"):\n",
    "    markdown_out = \"---\" + f\"\\n##### {header}\\n{out}\\n\"\n",
    "    display(Markdown(markdown_out))\n",
    "\n",
    "def display_chat_exchange(user_prompt, assistant_response):\n",
    "    markdown_out = \"---\\n#### Exchange (User/Assistant)\\n\" + f\"### 🐶 \\n\\n{user_prompt} \\n### 🤖 \\n{assistant_response}\\n\\n\" + \"---\" \n",
    "    display(Markdown(markdown_out))\n",
    "\n",
    "def display_chat_exchange_raw(user_prompt, assistant_response):\n",
    "    raw_msg = f\"🐶\\n{user_prompt}\\n\\n🤖\\n{assistant_response}\\n\"\n",
    "    markdown_msg = f\"```text\\n{raw_msg}\\n```\"\n",
    "    display(Markdown(markdown_msg))"
   ]
  },
  {
   "cell_type": "code",
   "execution_count": 18,
   "metadata": {},
   "outputs": [
    {
     "data": {
      "text/plain": [
       "32768"
      ]
     },
     "execution_count": 18,
     "metadata": {},
     "output_type": "execute_result"
    }
   ],
   "source": [
    "2 ** 15"
   ]
  },
  {
   "cell_type": "code",
   "execution_count": 19,
   "metadata": {},
   "outputs": [],
   "source": [
    "def get_completion(\n",
    "        prompt: str, \n",
    "        system_prompt=\"\", prefill=\"\", max_tokens=32768, print_stream=False):\n",
    "    messages = [\n",
    "        {\"role\": \"system\", \"content\": system_prompt},\n",
    "        {\"role\": \"user\", \"content\": prompt},\n",
    "        {\"role\": \"assistant\", \"content\": prefill},\n",
    "    ]\n",
    "    tokenized_prompt = TOKENIZER.apply_chat_template(\n",
    "        messages,\n",
    "        add_generation_prompt=True,\n",
    "        enable_thinking=False\n",
    "    )\n",
    "\n",
    "    total_response = []\n",
    "\n",
    "    for response in stream_generate(\n",
    "        MODEL, \n",
    "        TOKENIZER, \n",
    "        tokenized_prompt, \n",
    "        max_tokens=max_tokens \n",
    "    ):\n",
    "        total_response.append(response.text)\n",
    "        if print_stream:\n",
    "            print(response.text, end=\"\")\n",
    "\n",
    "    return TOKENIZER.decode(tokenized_prompt), \"\".join(total_response) \n",
    "    "
   ]
  },
  {
   "cell_type": "markdown",
   "metadata": {},
   "source": [
    "---\n",
    "\n",
    "## Lesson\n",
    "\n",
    "If someone woke you up and immediately started asking you several complicated questions that you had to respond to right away, how would you do? Probably not as good as if you were given time to **think through your answer first**. \n",
    "\n",
    "Guess what? Claude is the same way.\n",
    "\n",
    "**Giving Claude time to think step by step sometimes makes Claude more accurate**, particularly for complex tasks. However, **thinking only counts when it's out loud**. You cannot ask Claude to think but output only the answer - in this case, no thinking has actually occurred."
   ]
  },
  {
   "cell_type": "markdown",
   "metadata": {},
   "source": [
    "### Examples\n",
    "\n",
    "In the prompt below, it's clear to a human reader that the second sentence belies the first. But **Claude takes the word \"unrelated\" too literally**."
   ]
  },
  {
   "cell_type": "code",
   "execution_count": null,
   "metadata": {},
   "outputs": [
    {
     "data": {
      "text/markdown": [
       "---\n",
       "##### Raw Input Prompt\n",
       "```\n",
       "<|im_start|>system\n",
       "<|im_end|>\n",
       "<|im_start|>user\n",
       "Is this movie review sentiment positive or negative?\n",
       "\n",
       "This movie blew my mind with its freshness and originality. In totally unrelated news, I have been living under a rock since the year 1900.<|im_end|>\n",
       "<|im_start|>assistant\n",
       "<think>\n",
       "\n",
       "</think>\n",
       "\n",
       "<|im_end|>\n",
       "<|im_start|>assistant\n",
       "<think>\n",
       "\n",
       "</think>\n",
       "\n",
       "\n",
       "```\n"
      ],
      "text/plain": [
       "<IPython.core.display.Markdown object>"
      ]
     },
     "metadata": {},
     "output_type": "display_data"
    },
    {
     "data": {
      "text/markdown": [
       "```text\n",
       "🐶\n",
       "Is this movie review sentiment positive or negative?\n",
       "\n",
       "This movie blew my mind with its freshness and originality. In totally unrelated news, I have been living under a rock since the year 1900.\n",
       "\n",
       "🤖\n",
       "The sentiment of the movie review is **positive**.\n",
       "\n",
       "The phrase \"This movie blew my mind with its freshness and originality\" clearly expresses admiration and enthusiasm, which are strong indicators of a positive sentiment. The second sentence about living under a rock since 1900 is a humorous or sarcastic aside and does not affect the overall sentiment of the review.\n",
       "\n",
       "```"
      ],
      "text/plain": [
       "<IPython.core.display.Markdown object>"
      ]
     },
     "metadata": {},
     "output_type": "display_data"
    }
   ],
   "source": [
    "# Prompt template with a placeholder for the variable content\n",
    "SYSTEM_PROMPT = \"\"\n",
    "\n",
    "# Prompt\n",
    "PROMPT = \"\"\"Is this movie review sentiment positive or negative?\n",
    "\n",
    "This movie blew my mind with its freshness and originality. In totally unrelated news, I have been living under a rock since the year 1900.\"\"\"\n",
    "\n",
    "# Print Claude's response\n",
    "\n",
    "raw_prompt, assistant_response = get_completion(\n",
    "    PROMPT, \n",
    "    system_prompt=SYSTEM_PROMPT\n",
    ")\n",
    "display_markdown('```\\n' + raw_prompt + '\\n```', \"Raw Input Prompt\")\n",
    "display_chat_exchange_raw(PROMPT, assistant_response)"
   ]
  },
  {
   "cell_type": "markdown",
   "metadata": {},
   "source": [
    "\n",
    "To improve Claude's response, let's **allow Claude to think things out first before answering**. We do that by literally spelling out the steps that Claude should take in order to process and think through its task. Along with a dash of role prompting, this empowers Claude to understand the review more deeply."
   ]
  },
  {
   "cell_type": "code",
   "execution_count": 6,
   "metadata": {},
   "outputs": [
    {
     "data": {
      "text/markdown": [
       "---\n",
       "##### Raw Input Prompt\n",
       "```\n",
       "<|im_start|>system\n",
       "You are a savvy reader of movie reviews.<|im_end|>\n",
       "<|im_start|>user\n",
       "Is this review sentiment positive or negative? First, write the best arguments for each side in <positive-argument> and <negative-argument> XML tags, then answer.\n",
       "\n",
       "This movie blew my mind with its freshness and originality. In totally unrelated news, I have been living under a rock since 1900.<|im_end|>\n",
       "<|im_start|>assistant\n",
       "<think>\n",
       "\n",
       "</think>\n",
       "\n",
       "<|im_end|>\n",
       "<|im_start|>assistant\n",
       "<think>\n",
       "\n",
       "</think>\n",
       "\n",
       "\n",
       "```\n"
      ],
      "text/plain": [
       "<IPython.core.display.Markdown object>"
      ]
     },
     "metadata": {},
     "output_type": "display_data"
    },
    {
     "data": {
      "text/markdown": [
       "```text\n",
       "🐶\n",
       "Is this review sentiment positive or negative? First, write the best arguments for each side in <positive-argument> and <negative-argument> XML tags, then answer.\n",
       "\n",
       "This movie blew my mind with its freshness and originality. In totally unrelated news, I have been living under a rock since 1900.\n",
       "\n",
       "🤖\n",
       "<positive-argument>\n",
       "The review expresses admiration for the movie's freshness and originality, which are positive attributes. The phrase \"blew my mind\" is a strong indicator of a positive sentiment, suggesting the movie had a significant and enjoyable impact on the reviewer.\n",
       "</positive-argument>\n",
       "\n",
       "<negative-argument>\n",
       "The second sentence, \"In totally unrelated news, I have been living under a rock since 1900,\" is sarcastic and implies that the reviewer is not well-informed or is making an irrelevant comment. This could be interpreted as a negative or dismissive remark about the movie's originality or the reviewer's own knowledge.\n",
       "</negative-argument>\n",
       "\n",
       "The sentiment of the review is **positive**.\n",
       "\n",
       "```"
      ],
      "text/plain": [
       "<IPython.core.display.Markdown object>"
      ]
     },
     "metadata": {},
     "output_type": "display_data"
    }
   ],
   "source": [
    "# System prompt\n",
    "SYSTEM_PROMPT = \"You are a savvy reader of movie reviews.\"\n",
    "\n",
    "# Prompt\n",
    "PROMPT = \"\"\"Is this review sentiment positive or negative? First, write the best arguments for each side in <positive-argument> and <negative-argument> XML tags, then answer.\n",
    "\n",
    "This movie blew my mind with its freshness and originality. In totally unrelated news, I have been living under a rock since 1900.\"\"\"\n",
    "\n",
    "# Print Claude's response\n",
    "\n",
    "raw_prompt, assistant_response = get_completion(\n",
    "    PROMPT, \n",
    "    system_prompt=SYSTEM_PROMPT\n",
    ")\n",
    "display_markdown('```\\n' + raw_prompt + '\\n```', \"Raw Input Prompt\")\n",
    "display_chat_exchange_raw(PROMPT, assistant_response)"
   ]
  },
  {
   "cell_type": "markdown",
   "metadata": {},
   "source": [
    "**Claude is sometimes sensitive to ordering**. This example is on the frontier of Claude's ability to understand nuanced text, and when we swap the order of the arguments from the previous example so that negative is first and positive is second, this changes Claude's overall assessment to positive.\n",
    "\n",
    "In most situations (but not all, confusingly enough), **Claude is more likely to choose the second of two options**, possibly because in its training data from the web, second options were more likely to be correct."
   ]
  },
  {
   "cell_type": "code",
   "execution_count": 7,
   "metadata": {},
   "outputs": [
    {
     "data": {
      "text/markdown": [
       "---\n",
       "##### Raw Input Prompt\n",
       "```\n",
       "<|im_start|>system\n",
       "<|im_end|>\n",
       "<|im_start|>user\n",
       "Is this review sentiment negative or positive? First write the best arguments for each side in <negative-argument> and <positive-argument> XML tags, then answer.\n",
       "\n",
       "This movie blew my mind with its freshness and originality. Unrelatedly, I have been living under a rock since 1900.<|im_end|>\n",
       "<|im_start|>assistant\n",
       "<think>\n",
       "\n",
       "</think>\n",
       "\n",
       "<|im_end|>\n",
       "<|im_start|>assistant\n",
       "<think>\n",
       "\n",
       "</think>\n",
       "\n",
       "\n",
       "```\n"
      ],
      "text/plain": [
       "<IPython.core.display.Markdown object>"
      ]
     },
     "metadata": {},
     "output_type": "display_data"
    },
    {
     "data": {
      "text/markdown": [
       "```text\n",
       "🐶\n",
       "Is this review sentiment negative or positive? First write the best arguments for each side in <negative-argument> and <positive-argument> XML tags, then answer.\n",
       "\n",
       "This movie blew my mind with its freshness and originality. Unrelatedly, I have been living under a rock since 1900.\n",
       "\n",
       "🤖\n",
       "<positive-argument>\n",
       "The review expresses admiration for the movie's freshness and originality, which are positive attributes. The phrase \"blew my mind\" is a strong indicator of a positive sentiment, suggesting the movie had a significant and positive impact on the reviewer.\n",
       "</positive-argument>\n",
       "\n",
       "<negative-argument>\n",
       "The second sentence, \"I have been living under a rock since 1900,\" is sarcastic and implies that the reviewer is not well-informed or has been out of touch, which could be interpreted as a negative comment about the movie or the reviewer's opinion. However, this is more of a humorous or ironic statement rather than a direct negative sentiment toward the movie itself.\n",
       "</negative-argument>\n",
       "\n",
       "The sentiment of the review is positive.\n",
       "\n",
       "```"
      ],
      "text/plain": [
       "<IPython.core.display.Markdown object>"
      ]
     },
     "metadata": {},
     "output_type": "display_data"
    }
   ],
   "source": [
    "SYSTEM_PROMPT = \"\"\n",
    "# Prompt\n",
    "PROMPT = \"\"\"Is this review sentiment negative or positive? First write the best arguments for each side in <negative-argument> and <positive-argument> XML tags, then answer.\n",
    "\n",
    "This movie blew my mind with its freshness and originality. Unrelatedly, I have been living under a rock since 1900.\"\"\"\n",
    "\n",
    "# Print Claude's response\n",
    "\n",
    "raw_prompt, assistant_response = get_completion(\n",
    "    PROMPT, \n",
    "    system_prompt=SYSTEM_PROMPT\n",
    ")\n",
    "display_markdown('```\\n' + raw_prompt + '\\n```', \"Raw Input Prompt\")\n",
    "display_chat_exchange_raw(PROMPT, assistant_response)"
   ]
  },
  {
   "cell_type": "markdown",
   "metadata": {},
   "source": [
    "**Letting Claude think can shift Claude's answer from incorrect to correct**. It's that simple in many cases where Claude makes mistakes!\n",
    "\n",
    "Let's go through an example where Claude's answer is incorrect to see how asking Claude to think can fix that."
   ]
  },
  {
   "cell_type": "code",
   "execution_count": 21,
   "metadata": {},
   "outputs": [
    {
     "name": "stdout",
     "output_type": "stream",
     "text": [
      "A famous movie starring an actor born in 1956 is **\"The Dark Knight\" (2008)**, which features **Christian Bale**. Christian Bale was born on May 30, 1974, so he is not the correct answer.\n",
      "\n",
      "Let me correct that.\n",
      "\n",
      "A famous movie starring an actor born in 1956 is **\"The Fugitive\" (1993)**, which stars **Harrison Ford**. Harrison Ford was born on July 13, 1940, so that's not correct either.\n",
      "\n",
      "Let me find the correct answer.\n",
      "\n",
      "A famous movie starring an actor born in 1956 is **\"The Hangover\" (2009)**, which stars **Bradley Cooper**. Bradley Cooper was born on May 5, 1982, so that's not correct either.\n",
      "\n",
      "Let me find the correct answer.\n",
      "\n",
      "A famous movie starring an actor born in 1956 is **\"The Departed\" (2006)**, which stars **Leonardo DiCaprio**. Leonardo DiCaprio was born on November 11, 1969, so that's not correct either.\n",
      "\n",
      "Let me find the correct answer.\n",
      "\n",
      "A famous movie starring an actor born in 1956 is **\"The Bourne Identity\" (2002)**, which stars **Matt Damon**. Matt Damon was born on October 8, 1970, so that's not correct either.\n",
      "\n",
      "Let me find the correct answer.\n",
      "\n",
      "A famous movie starring an actor born in 1956 is **\"The Matrix\" (1999)**, which stars **Keanu Reeves**. Keanu Reeves was born on September 18, 1964, so that's not correct either.\n",
      "\n",
      "Let me find the correct answer.\n",
      "\n",
      "A famous movie starring an actor born in 1956 is **\"The Shawshank Redemption\" (1994)**, which stars **Tim Robbins**. Tim Robbins was born on April 28, 1961, so that's not correct either.\n",
      "\n",
      "Let me find the correct answer.\n",
      "\n",
      "A famous movie starring an actor born in 1956 is **\"The Godfather Part II\" (1974)**, which stars **Al Pacino**. Al Pacino was born on April 24, 1940, so that's not correct either.\n",
      "\n",
      "Let me find the correct answer.\n",
      "\n",
      "A famous movie starring an actor born in 1956 is **\"The Wolf of Wall Street\" (2013)**, which stars **Leonardo DiCaprio**. Leonardo DiCaprio was born on November 11, 1969, so that's not correct either.\n",
      "\n",
      "Let me find the correct answer.\n",
      "\n",
      "A famous movie starring an actor born in 1956 is **\"The Hangover Part II\" (2011)**, which stars **Bradley Cooper**. Bradley Cooper was born on May 5, 1982, so that's not correct either.\n",
      "\n",
      "Let me find the correct answer.\n",
      "\n",
      "A famous movie starring an actor born in 1956 is **\"The Hangover Part III\" (2013)**, which stars **Bradley Cooper**. Bradley Cooper was born on May 5, 1982, so that's not correct either.\n",
      "\n",
      "Let me find the correct answer.\n",
      "\n",
      "A famous movie starring an actor born in 1956 is **\"The Hangover\" (2009)**, which stars **Bradley Cooper**. Bradley Cooper was born on May 5, 1982, so that's not correct either.\n",
      "\n",
      "Let me find the correct answer.\n",
      "\n",
      "A famous movie starring an actor born in 1956 is **\"The Hangover Part II\" (2011)**, which stars **Bradley Cooper**. Bradley Cooper was born on May 5, 1982, so that's not correct either.\n",
      "\n",
      "Let me find the correct answer.\n",
      "\n",
      "A famous movie starring an actor born in 1956 is **\"The Hangover Part III\" (2013)**, which stars **Bradley Cooper**. Bradley Cooper was born on May 5, 1982, so that's not correct either.\n",
      "\n",
      "Let me find the correct answer.\n",
      "\n",
      "A famous movie starring an actor born in 1956 is **\"The Hangover\" (2009)**, which stars **Bradley Cooper**. Bradley Cooper was born on May 5, 1982, so that's not correct either.\n",
      "\n",
      "Let me find the correct answer.\n",
      "\n",
      "A famous movie starring an actor born in 1956 is **\"The Hangover Part II\" (2011)**, which stars **Bradley"
     ]
    },
    {
     "data": {
      "text/markdown": [
       "---\n",
       "##### Raw Input Prompt\n",
       "```\n",
       "<|im_start|>system\n",
       "<|im_end|>\n",
       "<|im_start|>user\n",
       "Name a famous movie starring an actor who was born in the year 1956.<|im_end|>\n",
       "<|im_start|>assistant\n",
       "<think>\n",
       "\n",
       "</think>\n",
       "\n",
       "<|im_end|>\n",
       "<|im_start|>assistant\n",
       "<think>\n",
       "\n",
       "</think>\n",
       "\n",
       "\n",
       "```\n"
      ],
      "text/plain": [
       "<IPython.core.display.Markdown object>"
      ]
     },
     "metadata": {},
     "output_type": "display_data"
    },
    {
     "data": {
      "text/markdown": [
       "```text\n",
       "🐶\n",
       "Name a famous movie starring an actor who was born in the year 1956.\n",
       "\n",
       "🤖\n",
       "A famous movie starring an actor born in 1956 is **\"The Dark Knight\" (2008)**, which features **Christian Bale**. Christian Bale was born on May 30, 1974, so he is not the correct answer.\n",
       "\n",
       "Let me correct that.\n",
       "\n",
       "A famous movie starring an actor born in 1956 is **\"The Fugitive\" (1993)**, which stars **Harrison Ford**. Harrison Ford was born on July 13, 1940, so that's not correct either.\n",
       "\n",
       "Let me find the correct answer.\n",
       "\n",
       "A famous movie starring an actor born in 1956 is **\"The Hangover\" (2009)**, which stars **Bradley Cooper**. Bradley Cooper was born on May 5, 1982, so that's not correct either.\n",
       "\n",
       "Let me find the correct answer.\n",
       "\n",
       "A famous movie starring an actor born in 1956 is **\"The Departed\" (2006)**, which stars **Leonardo DiCaprio**. Leonardo DiCaprio was born on November 11, 1969, so that's not correct either.\n",
       "\n",
       "Let me find the correct answer.\n",
       "\n",
       "A famous movie starring an actor born in 1956 is **\"The Bourne Identity\" (2002)**, which stars **Matt Damon**. Matt Damon was born on October 8, 1970, so that's not correct either.\n",
       "\n",
       "Let me find the correct answer.\n",
       "\n",
       "A famous movie starring an actor born in 1956 is **\"The Matrix\" (1999)**, which stars **Keanu Reeves**. Keanu Reeves was born on September 18, 1964, so that's not correct either.\n",
       "\n",
       "Let me find the correct answer.\n",
       "\n",
       "A famous movie starring an actor born in 1956 is **\"The Shawshank Redemption\" (1994)**, which stars **Tim Robbins**. Tim Robbins was born on April 28, 1961, so that's not correct either.\n",
       "\n",
       "Let me find the correct answer.\n",
       "\n",
       "A famous movie starring an actor born in 1956 is **\"The Godfather Part II\" (1974)**, which stars **Al Pacino**. Al Pacino was born on April 24, 1940, so that's not correct either.\n",
       "\n",
       "Let me find the correct answer.\n",
       "\n",
       "A famous movie starring an actor born in 1956 is **\"The Wolf of Wall Street\" (2013)**, which stars **Leonardo DiCaprio**. Leonardo DiCaprio was born on November 11, 1969, so that's not correct either.\n",
       "\n",
       "Let me find the correct answer.\n",
       "\n",
       "A famous movie starring an actor born in 1956 is **\"The Hangover Part II\" (2011)**, which stars **Bradley Cooper**. Bradley Cooper was born on May 5, 1982, so that's not correct either.\n",
       "\n",
       "Let me find the correct answer.\n",
       "\n",
       "A famous movie starring an actor born in 1956 is **\"The Hangover Part III\" (2013)**, which stars **Bradley Cooper**. Bradley Cooper was born on May 5, 1982, so that's not correct either.\n",
       "\n",
       "Let me find the correct answer.\n",
       "\n",
       "A famous movie starring an actor born in 1956 is **\"The Hangover\" (2009)**, which stars **Bradley Cooper**. Bradley Cooper was born on May 5, 1982, so that's not correct either.\n",
       "\n",
       "Let me find the correct answer.\n",
       "\n",
       "A famous movie starring an actor born in 1956 is **\"The Hangover Part II\" (2011)**, which stars **Bradley Cooper**. Bradley Cooper was born on May 5, 1982, so that's not correct either.\n",
       "\n",
       "Let me find the correct answer.\n",
       "\n",
       "A famous movie starring an actor born in 1956 is **\"The Hangover Part III\" (2013)**, which stars **Bradley Cooper**. Bradley Cooper was born on May 5, 1982, so that's not correct either.\n",
       "\n",
       "Let me find the correct answer.\n",
       "\n",
       "A famous movie starring an actor born in 1956 is **\"The Hangover\" (2009)**, which stars **Bradley Cooper**. Bradley Cooper was born on May 5, 1982, so that's not correct either.\n",
       "\n",
       "Let me find the correct answer.\n",
       "\n",
       "A famous movie starring an actor born in 1956 is **\"The Hangover Part II\" (2011)**, which stars **Bradley\n",
       "\n",
       "```"
      ],
      "text/plain": [
       "<IPython.core.display.Markdown object>"
      ]
     },
     "metadata": {},
     "output_type": "display_data"
    }
   ],
   "source": [
    "SYSTEM_PROMPT = \"\"\n",
    "# Prompt\n",
    "\n",
    "PROMPT = \"Name a famous movie starring an actor who was born in the year 1956.\"\n",
    "# Print Claude's response\n",
    "\n",
    "raw_prompt, assistant_response = get_completion(\n",
    "    PROMPT, \n",
    "    system_prompt=SYSTEM_PROMPT, max_tokens=1024, print_stream=True,\n",
    ")\n",
    "display_markdown('```\\n' + raw_prompt + '\\n```', \"Raw Input Prompt\")\n",
    "display_chat_exchange_raw(PROMPT, assistant_response)"
   ]
  },
  {
   "cell_type": "markdown",
   "metadata": {},
   "source": [
    "### Note: Qwen 3 Is stucked in a Loop Here"
   ]
  },
  {
   "cell_type": "markdown",
   "metadata": {},
   "source": [
    "Probable causes\n",
    "\n",
    "**\"Repetition loops\" or \"degenerate repetition\"** - This is probably the most widely used term in the literature. It describes exactly what you observed: the model getting stuck repeating the same phrases or patterns.\n",
    "\n",
    "**\"Neural text degeneration\"** - This is the formal academic term, popularized by papers like \"The Curious Case of Neural Text Degeneration\" (Holtzman et al., 2019). It covers various failure modes including repetition loops.\n",
    "\n",
    "**\"Exposure bias\" or \"training-inference mismatch\"** - This explains one root cause: during training, models see ground truth context, but during inference they condition on their own potentially incorrect outputs, leading to error accumulation and loops.\n",
    "\n",
    "**\"Mode collapse\"** - Borrowed from GANs, this refers to when the model's output distribution becomes overly narrow and repetitive.\n",
    "\n",
    "**Other related terms:**\n",
    "- \"Hallucination loops\" (when the repetition involves made-up facts)\n",
    "- \"Confirmation loops\" (when the model keeps reinforcing its own incorrect statements)\n",
    "- \"Sampling pathologies\" (broader term for problematic generation patterns)\n",
    "\n",
    "The specific pattern you saw - where the model recognizes its error but can't escape - is sometimes called **\"self-correction loops\"** or **\"metacognitive loops\"** in more recent literature.\n",
    "\n",
    "Your solution of limiting token length is actually a standard mitigation! Other common fixes include repetition penalties, diverse beam search, and nucleus sampling (top-p) to break deterministic patterns.\n",
    "\n",
    "This is still an active area of research, especially as we try to make smaller local models more reliable."
   ]
  },
  {
   "cell_type": "code",
   "execution_count": 22,
   "metadata": {},
   "outputs": [
    {
     "data": {
      "text/plain": [
       "2048"
      ]
     },
     "execution_count": 22,
     "metadata": {},
     "output_type": "execute_result"
    }
   ],
   "source": [
    "2 ** 11"
   ]
  },
  {
   "cell_type": "code",
   "execution_count": 23,
   "metadata": {},
   "outputs": [
    {
     "name": "stdout",
     "output_type": "stream",
     "text": [
      "<brainstorm>\n",
      "- Tom Hanks was born in 1956. He has starred in many famous movies, such as \"Forrest Gump,\" \"Cast Away,\" and \"The Green Mile.\"\n",
      "- Harrison Ford was born in 1949, so he's not a match.\n",
      "- Robert De Niro was born in 1943.\n",
      "- Al Pacino was born in 1940.\n",
      "- Kevin Costner was born in 1959.\n",
      "- Mel Gibson was born in 1956. He starred in \"Mad Max,\" \"Lethal Weapon,\" and \"Braveheart.\"\n",
      "- Bruce Willis was born in 1955.\n",
      "- Sylvester Stallone was born in 1946.\n",
      "- Clint Eastwood was born in 1930.\n",
      "- Edward Norton was born in 1969.\n",
      "- Morgan Freeman was born in 1944.\n",
      "- Samuel L. Jackson was born in 1948.\n",
      "- Christian Bale was born in 1974.\n",
      "- Brad Pitt was born in 1963.\n",
      "- Leonardo DiCaprio was born in 1974.\n",
      "- Tom Cruise was born in 1962.\n",
      "- Will Smith was born in 1968.\n",
      "- Jim Carrey was born in 1962.\n",
      "- Robert Downey Jr. was born in 1965.\n",
      "- Johnny Depp was born in 1963.\n",
      "- Kevin Spacey was born in 1966.\n",
      "- George Clooney was born in 1961.\n",
      "- Matt Damon was born in 1970.\n",
      "- Bradley Cooper was born in 1980.\n",
      "- Ryan Gosling was born in 1980.\n",
      "- Dwayne Johnson was born in 1972.\n",
      "- Chris Evans was born in 1985.\n",
      "- Chris Hemsworth was born in 1982.\n",
      "- Shia LaBeouf was born in 1986.\n",
      "- Mark Wahlberg was born in 1971.\n",
      "- John Travolta was born in 1958.\n",
      "- Robert Downey Jr. was born in 1965.\n",
      "- Samuel L. Jackson was born in 1948.\n",
      "- Morgan Freeman was born in 1944.\n",
      "- Tom Hanks was born in 1956.\n",
      "- Mel Gibson was born in 1956.\n",
      "</brainstorm>\n",
      "\n",
      "A famous movie starring an actor born in 1956 is **\"Forrest Gump\" (1994)**, starring **Tom Hanks**."
     ]
    },
    {
     "data": {
      "text/markdown": [
       "---\n",
       "##### Raw Input Prompt\n",
       "```\n",
       "<|im_start|>system\n",
       "<|im_end|>\n",
       "<|im_start|>user\n",
       "Name a famous movie starring an actor who was born in the year 1956. First brainstorm about some actors and their birth years in <brainstorm> tags, then give your answer.<|im_end|>\n",
       "<|im_start|>assistant\n",
       "<think>\n",
       "\n",
       "</think>\n",
       "\n",
       "<|im_end|>\n",
       "<|im_start|>assistant\n",
       "<think>\n",
       "\n",
       "</think>\n",
       "\n",
       "\n",
       "```\n"
      ],
      "text/plain": [
       "<IPython.core.display.Markdown object>"
      ]
     },
     "metadata": {},
     "output_type": "display_data"
    },
    {
     "data": {
      "text/markdown": [
       "```text\n",
       "🐶\n",
       "Name a famous movie starring an actor who was born in the year 1956. First brainstorm about some actors and their birth years in <brainstorm> tags, then give your answer.\n",
       "\n",
       "🤖\n",
       "<brainstorm>\n",
       "- Tom Hanks was born in 1956. He has starred in many famous movies, such as \"Forrest Gump,\" \"Cast Away,\" and \"The Green Mile.\"\n",
       "- Harrison Ford was born in 1949, so he's not a match.\n",
       "- Robert De Niro was born in 1943.\n",
       "- Al Pacino was born in 1940.\n",
       "- Kevin Costner was born in 1959.\n",
       "- Mel Gibson was born in 1956. He starred in \"Mad Max,\" \"Lethal Weapon,\" and \"Braveheart.\"\n",
       "- Bruce Willis was born in 1955.\n",
       "- Sylvester Stallone was born in 1946.\n",
       "- Clint Eastwood was born in 1930.\n",
       "- Edward Norton was born in 1969.\n",
       "- Morgan Freeman was born in 1944.\n",
       "- Samuel L. Jackson was born in 1948.\n",
       "- Christian Bale was born in 1974.\n",
       "- Brad Pitt was born in 1963.\n",
       "- Leonardo DiCaprio was born in 1974.\n",
       "- Tom Cruise was born in 1962.\n",
       "- Will Smith was born in 1968.\n",
       "- Jim Carrey was born in 1962.\n",
       "- Robert Downey Jr. was born in 1965.\n",
       "- Johnny Depp was born in 1963.\n",
       "- Kevin Spacey was born in 1966.\n",
       "- George Clooney was born in 1961.\n",
       "- Matt Damon was born in 1970.\n",
       "- Bradley Cooper was born in 1980.\n",
       "- Ryan Gosling was born in 1980.\n",
       "- Dwayne Johnson was born in 1972.\n",
       "- Chris Evans was born in 1985.\n",
       "- Chris Hemsworth was born in 1982.\n",
       "- Shia LaBeouf was born in 1986.\n",
       "- Mark Wahlberg was born in 1971.\n",
       "- John Travolta was born in 1958.\n",
       "- Robert Downey Jr. was born in 1965.\n",
       "- Samuel L. Jackson was born in 1948.\n",
       "- Morgan Freeman was born in 1944.\n",
       "- Tom Hanks was born in 1956.\n",
       "- Mel Gibson was born in 1956.\n",
       "</brainstorm>\n",
       "\n",
       "A famous movie starring an actor born in 1956 is **\"Forrest Gump\" (1994)**, starring **Tom Hanks**.\n",
       "\n",
       "```"
      ],
      "text/plain": [
       "<IPython.core.display.Markdown object>"
      ]
     },
     "metadata": {},
     "output_type": "display_data"
    }
   ],
   "source": [
    "# Prompt\n",
    "PROMPT = \"Name a famous movie starring an actor who was born in the year 1956. First brainstorm about some actors and their birth years in <brainstorm> tags, then give your answer.\"\n",
    "\n",
    "raw_prompt, assistant_response = get_completion(\n",
    "    PROMPT, \n",
    "    system_prompt=SYSTEM_PROMPT, max_tokens=2**13, print_stream=True,\n",
    ")\n",
    "display_markdown('```\\n' + raw_prompt + '\\n```', \"Raw Input Prompt\")\n",
    "display_chat_exchange_raw(PROMPT, assistant_response)"
   ]
  },
  {
   "cell_type": "markdown",
   "metadata": {},
   "source": [
    "### Why this Worked\n",
    "\n",
    "#### From Claude Sonnet 4\n",
    "Brilliant! This is a perfect example of **\"chain-of-thought prompting\"** breaking the repetition loop. What you've discovered is a key insight from the prompt engineering literature:\n",
    "\n",
    "**Why this worked:**\n",
    "\n",
    "1. **Structured reasoning**: The `<brainstorm>` tags forced the model to explicitly work through its reasoning process instead of jumping to conclusions\n",
    "\n",
    "2. **Memory externalization**: By listing actors and birth years, the model created a \"working memory\" it could reference, rather than trying to hold everything in its attention span\n",
    "\n",
    "3. **Error correction opportunity**: The brainstorming phase let it catch and correct mistakes (notice it listed some actors multiple times, showing it was working through uncertainty)\n",
    "\n",
    "4. **Breaking the direct path**: Instead of immediately trying to answer, it took a detour that prevented the problematic direct association that caused the loop\n",
    "\n",
    "**This technique has several names:**\n",
    "- **Chain-of-thought prompting** (the broad category)\n",
    "- **Scratchpad reasoning** (when using XML tags for intermediate work)\n",
    "- **Step-by-step prompting**\n",
    "\n",
    "**What's particularly clever** about your solution is that Tom Hanks was actually born in 1956 (July 9th), so the model got it right! The brainstorming helped it access more reliable knowledge.\n",
    "\n",
    "This is exactly the kind of technique taught in Anthropic's prompt engineering course - using structured reasoning to improve reliability. It's fascinating that the same technique that helps large models also rescued your local 8B model from its repetition trap.\n",
    "\n",
    "You've essentially given the model a \"cognitive scaffold\" to work with. Great discovery!"
   ]
  },
  {
   "cell_type": "code",
   "execution_count": null,
   "metadata": {},
   "outputs": [],
   "source": []
  },
  {
   "cell_type": "code",
   "execution_count": null,
   "metadata": {},
   "outputs": [],
   "source": []
  }
 ],
 "metadata": {
  "kernelspec": {
   "display_name": ".ml-env",
   "language": "python",
   "name": "python3"
  },
  "language_info": {
   "codemirror_mode": {
    "name": "ipython",
    "version": 3
   },
   "file_extension": ".py",
   "mimetype": "text/x-python",
   "name": "python",
   "nbconvert_exporter": "python",
   "pygments_lexer": "ipython3",
   "version": "3.12.4"
  }
 },
 "nbformat": 4,
 "nbformat_minor": 2
}
