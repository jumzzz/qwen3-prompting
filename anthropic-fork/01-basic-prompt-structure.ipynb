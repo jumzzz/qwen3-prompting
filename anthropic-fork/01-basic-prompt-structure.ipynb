{
 "cells": [
  {
   "cell_type": "code",
   "execution_count": 4,
   "metadata": {},
   "outputs": [],
   "source": [
    "from mlx_lm import load, stream_generate\n",
    "\n",
    "model_path = \"../../huggingface-models/qwen3-8b-4bit/\"\n",
    "MODEL, TOKENIZER = load(model_path)"
   ]
  },
  {
   "cell_type": "code",
   "execution_count": 57,
   "metadata": {},
   "outputs": [],
   "source": [
    "prompt = \"Write a story about a man climbing in the treacherous mountain of K2.\"\n",
    "messages = [{\"role\": \"user\", \"content\": prompt}]"
   ]
  },
  {
   "cell_type": "code",
   "execution_count": 141,
   "metadata": {},
   "outputs": [],
   "source": [
    "from IPython.display import Markdown, display\n",
    "\n",
    "def display_markdown(out, header=\"Assistant\"):\n",
    "    markdown_out = \"---\" + f\"\\n#### {header}\\n{out}\\n\"\n",
    "    display(Markdown(markdown_out))\n",
    "\n",
    "def display_chat_exchange(user_prompt, assistant_response):\n",
    "    markdown_out = \"---\\n### Exchange:\\n\" + f\"### 🐶 \\n\\n{user_prompt} \\n### 🤖 \\n{assistant_response}\\n\\n\" + \"---\" \n",
    "    display(Markdown(markdown_out))"
   ]
  },
  {
   "cell_type": "code",
   "execution_count": 142,
   "metadata": {},
   "outputs": [],
   "source": [
    "def get_completion(\n",
    "        prompt: str, \n",
    "        system_prompt=\"\"):\n",
    "    messages = [\n",
    "        {\"role\": \"system\", \"content\": system_prompt},\n",
    "        {\"role\": \"user\", \"content\": prompt},\n",
    "    ]\n",
    "    tokenized_prompt = TOKENIZER.apply_chat_template(\n",
    "        messages,\n",
    "        add_generation_prompt=True,\n",
    "        enable_thinking=False\n",
    "    )\n",
    "\n",
    "    return TOKENIZER.decode(tokenized_prompt), \"\".join([\n",
    "        response.text\n",
    "        for response in stream_generate(\n",
    "            MODEL, \n",
    "            TOKENIZER, \n",
    "            tokenized_prompt, \n",
    "            max_tokens=-1 \n",
    "        )\n",
    "    ])\n"
   ]
  },
  {
   "cell_type": "code",
   "execution_count": 143,
   "metadata": {},
   "outputs": [
    {
     "data": {
      "text/plain": [
       "'qwen3-8b-4bit'"
      ]
     },
     "execution_count": 143,
     "metadata": {},
     "output_type": "execute_result"
    }
   ],
   "source": [
    "import os\n",
    "ASSISTANT_HEADER = os.path.basename(os.path.dirname(model_path))\n",
    "ASSISTANT_HEADER"
   ]
  },
  {
   "cell_type": "code",
   "execution_count": 145,
   "metadata": {},
   "outputs": [
    {
     "data": {
      "text/markdown": [
       "---\n",
       "#### Raw Input Prompt:\n",
       "<|im_start|>system\n",
       "<|im_end|>\n",
       "<|im_start|>user\n",
       "Hello bro, how are you?<|im_end|>\n",
       "<|im_start|>assistant\n",
       "<think>\n",
       "\n",
       "</think>\n",
       "\n",
       "\n"
      ],
      "text/plain": [
       "<IPython.core.display.Markdown object>"
      ]
     },
     "metadata": {},
     "output_type": "display_data"
    },
    {
     "data": {
      "text/markdown": [
       "---\n",
       "### Exchange:\n",
       "### 🐶 \n",
       "\n",
       "Hello bro, how are you? \n",
       "### 🤖 \n",
       "Hey there! I'm just a chatbot, so I don't have feelings, but I'm here and ready to help! How can I assist you today? 😊\n",
       "\n",
       "---"
      ],
      "text/plain": [
       "<IPython.core.display.Markdown object>"
      ]
     },
     "metadata": {},
     "output_type": "display_data"
    }
   ],
   "source": [
    "user_prompt = \"Hello bro, how are you?\"\n",
    "raw_prompt, assistant_response = get_completion(user_prompt)\n",
    "display_markdown(raw_prompt, \"Raw Input Prompt:\")\n",
    "display_chat_exchange(user_prompt, assistant_response)"
   ]
  },
  {
   "cell_type": "code",
   "execution_count": 148,
   "metadata": {},
   "outputs": [
    {
     "data": {
      "text/markdown": [
       "---\n",
       "#### Raw Input Prompt:\n",
       "<|im_start|>system\n",
       "<|im_end|>\n",
       "<|im_start|>user\n",
       "Can you tell me the color of the ocean?<|im_end|>\n",
       "<|im_start|>assistant\n",
       "<think>\n",
       "\n",
       "</think>\n",
       "\n",
       "\n"
      ],
      "text/plain": [
       "<IPython.core.display.Markdown object>"
      ]
     },
     "metadata": {},
     "output_type": "display_data"
    },
    {
     "data": {
      "text/markdown": [
       "---\n",
       "### Exchange:\n",
       "### 🐶 \n",
       "\n",
       "Can you tell me the color of the ocean? \n",
       "### 🤖 \n",
       "The color of the ocean is typically **blue**, but it can appear in different shades depending on the depth, clarity of the water, and the presence of algae or other substances.\n",
       "\n",
       "- **Shallow waters** often appear **turquoise** or **green** due to the reflection of the sky and the presence of phytoplankton.\n",
       "- **Deeper waters** tend to look **dark blue** or **black**, especially in the open ocean.\n",
       "- **Pollution or algae blooms** can change the color to **green**, **red**, or even **brown**.\n",
       "\n",
       "So, while the ocean is most commonly associated with blue, its color can vary widely depending on the environment.\n",
       "\n",
       "---"
      ],
      "text/plain": [
       "<IPython.core.display.Markdown object>"
      ]
     },
     "metadata": {},
     "output_type": "display_data"
    }
   ],
   "source": [
    "user_prompt = \"Can you tell me the color of the ocean?\"\n",
    "raw_prompt, assistant_response = get_completion(user_prompt)\n",
    "display_markdown(raw_prompt, \"Raw Input Prompt:\")\n",
    "display_chat_exchange(user_prompt, assistant_response)"
   ]
  },
  {
   "cell_type": "code",
   "execution_count": 150,
   "metadata": {},
   "outputs": [
    {
     "data": {
      "text/markdown": [
       "---\n",
       "#### Raw Input Prompt:\n",
       "<|im_start|>system\n",
       "<|im_end|>\n",
       "<|im_start|>user\n",
       "What year was Mt. Everest first conquered?<|im_end|>\n",
       "<|im_start|>assistant\n",
       "<think>\n",
       "\n",
       "</think>\n",
       "\n",
       "\n"
      ],
      "text/plain": [
       "<IPython.core.display.Markdown object>"
      ]
     },
     "metadata": {},
     "output_type": "display_data"
    },
    {
     "data": {
      "text/markdown": [
       "---\n",
       "### Exchange:\n",
       "### 🐶 \n",
       "\n",
       "What year was Mt. Everest first conquered? \n",
       "### 🤖 \n",
       "Mount Everest was first conquered in **1953**. The first successful ascent was achieved by Sir Edmund Hillary of New Zealand and Tenzing Norgay, a Nepalese mountaineer, on **May 29, 1953**. They reached the summit from the south side of the mountain, which is in Nepal.\n",
       "\n",
       "---"
      ],
      "text/plain": [
       "<IPython.core.display.Markdown object>"
      ]
     },
     "metadata": {},
     "output_type": "display_data"
    }
   ],
   "source": [
    "user_prompt = \"What year was Mt. Everest first conquered?\"\n",
    "raw_prompt, assistant_response = get_completion(user_prompt)\n",
    "display_markdown(raw_prompt, \"Raw Input Prompt:\")\n",
    "display_chat_exchange(user_prompt, assistant_response)"
   ]
  }
 ],
 "metadata": {
  "kernelspec": {
   "display_name": ".ml-env",
   "language": "python",
   "name": "python3"
  },
  "language_info": {
   "codemirror_mode": {
    "name": "ipython",
    "version": 3
   },
   "file_extension": ".py",
   "mimetype": "text/x-python",
   "name": "python",
   "nbconvert_exporter": "python",
   "pygments_lexer": "ipython3",
   "version": "3.12.4"
  }
 },
 "nbformat": 4,
 "nbformat_minor": 2
}
