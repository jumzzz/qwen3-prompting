{
 "cells": [
  {
   "cell_type": "code",
   "execution_count": 27,
   "metadata": {},
   "outputs": [],
   "source": [
    "from mlx_lm import load, stream_generate\n"
   ]
  },
  {
   "cell_type": "code",
   "execution_count": 28,
   "metadata": {},
   "outputs": [],
   "source": [
    "model_path = \"../../huggingface-models/qwen3-8b-4bit/\"\n",
    "model, tokenizer = load(model_path)"
   ]
  },
  {
   "cell_type": "code",
   "execution_count": 57,
   "metadata": {},
   "outputs": [],
   "source": [
    "prompt = \"Write a story about a man climbing in the treacherous mountain of K2.\"\n",
    "messages = [{\"role\": \"user\", \"content\": prompt}]"
   ]
  },
  {
   "cell_type": "code",
   "execution_count": 58,
   "metadata": {},
   "outputs": [],
   "source": [
    "def raw_prompt_without_generation(tokenizer, messages):\n",
    "    return tokenizer.apply_chat_template(\n",
    "        messages, add_generation_prompt=False, enable_thinking=True\n",
    "    )\n",
    "\n",
    "def raw_prompt_with_generation(tokenizer, messages):\n",
    "    return tokenizer.apply_chat_template(\n",
    "        messages, add_generation_prompt=True, enable_thinking=True\n",
    "    )\n",
    "\n",
    "def raw_prompt_without_thinking(tokenizer, messages):\n",
    "    return tokenizer.apply_chat_template(\n",
    "        messages, add_generation_prompt=True, enable_thinking=False\n",
    "    )\n",
    "\n",
    "def raw_prompt_with_system(tokenizer, messages):\n",
    "    updated_messages = [{\"role\": \"system\", \"content\" : 10 * \"You are an AI!\\n\"}] + messages\n",
    "    return tokenizer.apply_chat_template(\n",
    "        updated_messages, add_generation_prompt=True, enable_thinking=True\n",
    "    )"
   ]
  },
  {
   "cell_type": "code",
   "execution_count": 59,
   "metadata": {},
   "outputs": [
    {
     "name": "stdout",
     "output_type": "stream",
     "text": [
      "----------------------------------------------------------------------------------------------------\n",
      "Without Generation:\n",
      "----------------------------------------------------------------------------------------------------\n",
      " <|im_start|>user\n",
      "Write a story about a man climbing in the treacherous mountain of K2.<|im_end|>\n",
      "\n",
      "----------------------------------------------------------------------------------------------------\n",
      "With Generation:\n",
      "----------------------------------------------------------------------------------------------------\n",
      " <|im_start|>user\n",
      "Write a story about a man climbing in the treacherous mountain of K2.<|im_end|>\n",
      "<|im_start|>assistant\n",
      "\n",
      "----------------------------------------------------------------------------------------------------\n",
      "Without Thinking:\n",
      "----------------------------------------------------------------------------------------------------\n",
      " <|im_start|>user\n",
      "Write a story about a man climbing in the treacherous mountain of K2.<|im_end|>\n",
      "<|im_start|>assistant\n",
      "<think>\n",
      "\n",
      "</think>\n",
      "\n",
      "\n",
      "----------------------------------------------------------------------------------------------------\n",
      "With System:\n",
      "----------------------------------------------------------------------------------------------------\n",
      " <|im_start|>system\n",
      "You are an AI!\n",
      "You are an AI!\n",
      "You are an AI!\n",
      "You are an AI!\n",
      "You are an AI!\n",
      "You are an AI!\n",
      "You are an AI!\n",
      "You are an AI!\n",
      "You are an AI!\n",
      "You are an AI!\n",
      "<|im_end|>\n",
      "<|im_start|>user\n",
      "Write a story about a man climbing in the treacherous mountain of K2.<|im_end|>\n",
      "<|im_start|>assistant\n",
      "\n",
      "----------------------------------------------------------------------------------------------------\n"
     ]
    }
   ],
   "source": [
    "tok_without_generation = raw_prompt_without_generation(tokenizer, messages)\n",
    "tok_with_generation = raw_prompt_with_generation(tokenizer, messages)\n",
    "tok_without_thinking = raw_prompt_without_thinking(tokenizer, messages)\n",
    "tok_with_system = raw_prompt_with_system(tokenizer, messages)\n",
    "\n",
    "print(100 * \"-\")\n",
    "print(\"Without Generation:\\n\" + 100 * \"-\" + \"\\n\", tokenizer.decode(tok_without_generation))\n",
    "print(100 * \"-\")\n",
    "print(\"With Generation:\\n\" + 100 * \"-\" + \"\\n\", tokenizer.decode(tok_with_generation))\n",
    "print(100 * \"-\")\n",
    "print(\"Without Thinking:\\n\" + 100 * \"-\" + \"\\n\", tokenizer.decode(tok_without_thinking))\n",
    "print(100 * \"-\")\n",
    "print(\"With System:\\n\" + 100 * \"-\" + \"\\n\", tokenizer.decode(tok_with_system))\n",
    "print(100 * \"-\")"
   ]
  },
  {
   "cell_type": "code",
   "execution_count": 60,
   "metadata": {},
   "outputs": [],
   "source": [
    "def next_token_preds(model, tokenizer, tokenized_prompt):\n",
    "    for response in stream_generate(model, tokenizer, tokenized_prompt, max_tokens=2**15):\n",
    "        print(response.text, end=\"\", flush=True)\n",
    "    print()\n"
   ]
  },
  {
   "cell_type": "code",
   "execution_count": 61,
   "metadata": {},
   "outputs": [
    {
     "name": "stdout",
     "output_type": "stream",
     "text": [
      "<|im_start|>\n",
      "<|im_start|>\n",
      "Okay, I need to write a story about a man climbing K2. Let me start by thinking about the key elements. First, K2 is known as the second-highest mountain in the world, right? It's also considered one of the most dangerous mountains to climb. So the story should highlight the danger and the challenges.\n",
      "\n",
      "The main character is a man. Maybe he's an experienced climber, but perhaps there's a personal motivation. Maybe he's climbing for a loved one, or to prove something. That could add depth. Let me think... Maybe he lost someone before, and this climb is a way to honor them. That could give emotional stakes.\n",
      "\n",
      "Setting the scene: The mountain is treacherous. I should describe the harsh environment—extreme cold, thin air, unpredictable weather. Maybe include some specific dangers like crevasses, avalanches, or the difficulty of the route. Also, the physical and mental toll on the climber.\n",
      "\n",
      "I need to build tension. Maybe the climber faces a critical moment where he has to make a tough decision. Perhaps he's injured, or he's facing a storm. The story should have a climax where he overcomes the challenge, but maybe not a happy ending? Or maybe a bittersweet one. Wait, the user didn't specify the ending, so I can decide. Maybe he succeeds but at a personal cost, or maybe he fails but finds peace.\n",
      "\n",
      "Let me outline the structure. Start with the climber preparing, then the ascent, the challenges faced, a critical moment, and the resolution. Maybe include some flashbacks to his motivation. For example, his wife died in a climbing accident, and he's trying to reach the summit to honor her memory.\n",
      "\n",
      "I should also include some technical details about K2. The Bottleneck, the difficulty of the climb, the lack of oxygen. Maybe mention the altitude sickness, the physical strain. Also, the isolation—being alone on the mountain, the silence, the vastness.\n",
      "\n",
      "I need to make the story engaging. Use descriptive language to convey the atmosphere. Maybe start with the climber at the base, then move up, describe the environment, his thoughts, his fears. Maybe include some internal conflict—doubt, determination, memories.\n",
      "\n",
      "Wait, the user said \"a man climbing,\" so maybe focus on his personal journey rather than a team. Maybe he's alone, which adds to the isolation. That could be a good angle. Maybe he's a solo climber, which is even more dangerous.\n",
      "\n",
      "Let me think of a name for the climber. Maybe something simple, like Alex. Or maybe a more symbolic name. But maybe not necessary. The story can focus on his experience rather than his name.\n",
      "\n",
      "Now, the story needs a beginning, middle, and end. Let me sketch:\n",
      "\n",
      "- Introduction: Alex is preparing for the climb, maybe at the base camp. He's thinking about his wife, who died in a climbing accident. This is his way to honor her.\n",
      "\n",
      "- Ascent: He starts climbing, faces the harsh conditions. Describes the physical challenges, the cold, the altitude. Maybe some technical difficulties, like a crevasse or a storm.\n",
      "\n",
      "- Climax: He reaches a critical point, maybe the Bottleneck, where the risk is highest. He has to make a decision, maybe to turn back or push forward. Perhaps he's injured, or he's facing a storm.\n",
      "\n",
      "- Resolution: He either succeeds or fails, but the story ends with him finding closure. Maybe he reaches the summit but is changed by the experience, or he doesn't make it but finds peace in the attempt.\n",
      "\n",
      "I need to make sure the story is emotional and descriptive. Use sensory details—sound of wind, the feel of the cold, the weight of the gear. Maybe include some dialogue if he's with others, but if he's alone, then internal thoughts.\n",
      "\n",
      "Also, research a bit about K2. The Bottleneck is a narrow section with a high risk of falling. The mountain is known for its high fatality rate. Maybe mention that in the story to add authenticity.\n",
      "\n",
      "Let me start writing the story with these elements in mind. Make sure to build up the tension and the emotional stakes. Maybe end with him reaching the summit, but the experience is bittersweet, reminding him of his wife's memory.\n",
      "</think>\n",
      "\n",
      "**Title: The Summit of Shadows**\n",
      "\n",
      "At the base of K2, the wind howled like a vengeful spirit, tearing through the tents of the climbers with a ferocity that seemed to mock their resolve. Alex Carter stood at the edge of the glacier, his breath visible in the frigid air, the weight of his pack pressing against his shoulders. The mountain loomed above, a jagged titan of ice and stone, its slopes etched with the scars of countless failed attempts. For Alex, this climb was not just a test of endurance—it was a pilgrimage.\n",
      "\n",
      "Three years ago, his wife, Clara, had died in a sudden avalanche on Annapurna. The memory of her laughter, the warmth of her hand in his, had been buried beneath the snow. Now, he sought redemption on K2, the world’s second-highest peak, where the air was so thin it felt like breathing through a sieve. He had trained for this, sacrificed his career, and left behind the life he once knew. The summit would be his answer.\n",
      "\n",
      "The ascent began at dawn, the sun casting long shadows across the ice. Alex moved with precision, his boots crunching over the frozen terrain. The Bottleneck, a narrow ridge of rock and ice, loomed ahead—a treacherous passage where even a misstep could mean death. He recalled Clara’s voice, urging him to stay calm, to trust his instincts. The mountain, he realized, was not just a physical challenge but a mirror of his own fears.\n",
      "\n",
      "By the third day, the weather turned. A storm descended, blinding him with snow and reducing the world to a monochrome void. Alex’s fingers, numb from the cold, fumbled with his crampons as he navigated the crevasses. His oxygen supply was low, and his lungs burned with each breath. He thought of Clara, of the last time they had spoken, her words echoing in his mind: *“You’re stronger than you think, Alex.”* \n",
      "\n",
      "At 7,800 meters, he reached the Balcony, a narrow ledge where the wind screamed like a banshee. The summit was within reach, but the final push would be his greatest test. His legs trembled, his vision blurred, and the cold gnawed at his bones. He could hear the whispers of the mountain, the voices of those who had perished in its embrace. Was he chasing glory, or was he chasing a ghost?\n",
      "\n",
      "With a final surge of will, Alex climbed the last stretch of ice. The summit rose before him, a crown of clouds, the sky a vast expanse of blue. He reached the top, the wind tearing at his clothes, and collapsed onto the snow. For a moment, he was alone, the world silent except for the howl of the storm. \n",
      "\n",
      "He looked down at the Earth, a tiny speck of green and blue, and felt a profound stillness. Clara was gone, but in that moment, he felt her presence. The mountain had taken everything, yet it had also given him something—clarity, purpose, and the understanding that some journeys are not about reaching a destination, but about the strength to endure the climb.\n",
      "\n",
      "As the sun dipped below the horizon, casting the mountain in hues of gold and crimson, Alex began his descent. The wind had calmed, and the silence of the summit echoed with the weight of his journey. K2 had tested him, but in its shadow, he had found a piece of himself he thought was lost.\n"
     ]
    }
   ],
   "source": [
    "next_token_preds(model, tokenizer, tok_without_generation)"
   ]
  },
  {
   "cell_type": "code",
   "execution_count": 62,
   "metadata": {},
   "outputs": [
    {
     "name": "stdout",
     "output_type": "stream",
     "text": [
      "<think>\n",
      "Okay, the user wants a story about a man climbing K2. Let me start by thinking about the key elements. K2 is known for being one of the most dangerous mountains, so I need to highlight the challenges. Maybe focus on the physical and mental struggles. The protagonist should be someone relatable, maybe with a personal motivation. Perhaps he's an experienced climber with a past failure or a personal loss. \n",
      "\n",
      "I should include the harsh environment—extreme weather, thin air, avalanches. Maybe some specific dangers like crevasses or storms. The story needs tension and a climax. Maybe he faces a critical moment where he has to make a tough decision. \n",
      "\n",
      "Also, the user might want a realistic portrayal, so I should research some real aspects of K2 climbing. Maybe mention the altitude, the lack of oxygen, the teamwork involved. But since it's a story, I can take some creative liberties. \n",
      "\n",
      "I need a strong opening to hook the reader. Maybe start with him at the summit, then flashback to his journey. Or start with him preparing for the climb. Wait, the user said \"a man climbing,\" so maybe first-person? Or third-person? Probably third-person for more narrative control. \n",
      "\n",
      "Let me outline the structure: introduction of the character, his motivation, the climb's challenges, a critical incident, and resolution. Maybe he succeeds but at a cost, or he fails but learns something. \n",
      "\n",
      "I should also think about themes—perseverance, sacrifice, the beauty of nature, the danger of ambition. Maybe include some internal conflict. Maybe he's climbing to honor someone or achieve a personal goal. \n",
      "\n",
      "Need to avoid clichés. Maybe add unique details about the mountain's environment. Also, check for any cultural or geographical inaccuracies. K2 is in the Karakoram range, between Pakistan and China. Maybe mention the local guides or the political aspects, but maybe that's too much. \n",
      "\n",
      "Let me think of a name for the protagonist. Maybe something simple like Elias. He's a seasoned climber with a tragic past. Maybe he lost a loved one and wants to prove himself. \n",
      "\n",
      "The story could have a turning point where he faces a life-threatening situation, like a storm or an avalanche. He has to make a choice between saving himself or someone else. That adds emotional depth. \n",
      "\n",
      "I need to build suspense. Maybe start with him at a high altitude, struggling, then flashback to his preparation. Or start with the climb itself. \n",
      "\n",
      "Also, the ending—does he reach the summit? Maybe not, but he finds peace or closure. Or he does reach it but with a heavy cost. \n",
      "\n",
      "I should make sure the story flows and keeps the reader engaged. Use descriptive language to convey the harsh environment. Maybe include sensory details—cold, wind, the sound of the wind, the silence of the mountain. \n",
      "\n",
      "Let me start drafting. Maybe start with Elias at the base camp, reflecting on his past. Then describe the ascent, the challenges, the storm, the critical moment. Then resolve it with him either succeeding or finding a different kind of victory. \n",
      "\n",
      "I need to check for consistency in the plot and character development. Make sure the challenges are realistic and the protagonist's actions are believable. Avoid making it too melodramatic. \n",
      "\n",
      "Okay, I think I have a good outline. Now, time to write the story with these elements in mind.\n",
      "</think>\n",
      "\n",
      "**Title: The Edge of Silence**  \n",
      "\n",
      "The wind howled like a wounded beast, tearing at Elias Carter’s face as he trudged through the snow. His breath came in ragged gasps, each one a battle against the thin air that clawed at his lungs. Above him, the jagged spires of K2 loomed, their icy peaks shrouded in a veil of storm. He had spent years preparing for this moment, but no amount of training could have readied him for the raw, unrelenting fury of the mountain.  \n",
      "\n",
      "Elias had climbed the world’s tallest peaks, but K2 was different. It was a monster that didn’t just test your strength—it tested your soul. The Karakoram’s secrets were buried in its crevasses, and the air here was so thin that even the bravest climbers faltered. He had read the stories: the bodies left in the snow, the lost expeditions, the ones who never came home. Yet, he had come anyway.  \n",
      "\n",
      "It wasn’t just about the summit. It was about the woman he had lost. Three years ago, his wife, Clara, had died in a sudden avalanche on Denali. The grief had been a weight he carried, heavy and unyielding. He had vowed to climb K2 not for glory, but to prove that he could still be strong. That he could still fight.  \n",
      "\n",
      "The storm had descended without warning. The sky, once a bruised purple, had turned to a churning black. Elias’s headlamp cut through the darkness, illuminating the frozen ground and the treacherous terrain. He had left his team hours ago, a decision he now regretted. He was alone, save for the wind and the memory of Clara’s voice, urging him forward.  \n",
      "\n",
      "At 7,500 meters, the air was a knife. His fingers trembled as he adjusted his oxygen mask, the regulator hissing faintly. The ridge ahead was a narrow knife-edge, a jagged scar in the mountain’s body. He had seen it on the maps, but nothing could prepare him for the reality: a single misstep, a slip of the boot, and he would be gone.  \n",
      "\n",
      "He reached the ridge, his boots sinking into the snow. The wind screamed around him, a sound that felt like it was trying to tear him apart. He paused, staring at the summit. It was a dream, a mirage of light and hope. But the mountain was not done with him.  \n",
      "\n",
      "A sudden crack echoed through the valley—a thunderous roar that sent a plume of snow cascading down the slope. Elias dove to the side, his heart pounding. The avalanche was already on its way. He scrambled backward, the snow burying his feet. The storm had turned the ridge into a death trap.  \n",
      "\n",
      "He had no choice. He had to keep moving.  \n",
      "\n",
      "With trembling hands, he unclipped his ice axe and drove it into the snow, anchoring himself as the wind howled. The storm was a living thing, a force that demanded surrender. But Elias had come too far. He forced himself upward, each step a battle against the elements.  \n",
      "\n",
      "Hours passed, or maybe minutes—time blurred in the chaos. His body screamed for rest, but he pressed on. The summit was a distant star, a beacon in the storm.  \n",
      "\n",
      "At last, he reached the top. The world below was a sea of white, the clouds swirling like a tempest. He collapsed onto the snow, his body spent, his lungs burning. For a moment, he was alone, the mountain holding its breath.  \n",
      "\n",
      "Then, silence.  \n",
      "\n",
      "He closed his eyes, and in that silence, he heard Clara’s voice. Not in the wind, not in the snow, but in the stillness of the summit. She had always said he was a man of action, always chasing the next peak. But today, he had found something else: peace.  \n",
      "\n",
      "The storm passed, and the sun broke through the clouds, casting golden light over the mountain. Elias stood, his head tilted toward the sky, and for the first time in years, he felt the weight of grief begin to lift.  \n",
      "\n",
      "He had not conquered K2. He had simply survived. And in that survival, he had found a piece of himself he thought was lost forever.\n"
     ]
    }
   ],
   "source": [
    "next_token_preds(model, tokenizer, tok_with_generation)"
   ]
  },
  {
   "cell_type": "code",
   "execution_count": 63,
   "metadata": {},
   "outputs": [
    {
     "name": "stdout",
     "output_type": "stream",
     "text": [
      "**Title: The Summit of Shadows**\n",
      "\n",
      "The wind howled like a vengeful spirit, tearing at the edges of the sky. Above the jagged teeth of K2, the world seemed to hold its breath. At 8,611 meters, the air was thin, the cold relentless, and the path treacherous. But for Marcus Hale, the mountain was not just a challenge—it was a calling.\n",
      "\n",
      "Marcus had spent years preparing for this moment. A former mountaineer turned wilderness guide, he had led expeditions across the Andes and the Himalayas, but K2 had always been the ultimate test. It was the second-highest mountain in the world, known for its unpredictable weather, deadly crevasses, and the ever-present specter of death. Yet, for Marcus, it was a place of redemption.\n",
      "\n",
      "He had lost his wife, Clara, two years ago in a sudden avalanche on Denali. The grief had been a weight he carried, heavy and unrelenting. He had vowed to climb K2 not for glory, but to confront the silence of the mountains and find some measure of peace.\n",
      "\n",
      "The team was small—five climbers, each with their own story, their own reasons for being here. There was Lila, a young climber from Nepal, whose father had died on K2. Then there was Elias, a weather forecaster from Colorado, and two guides, Raj and Tariq, both veterans of the mountain. They had trained for months, acclimatized slowly, and now, after weeks of climbing, they stood at the base of the Bottleneck, the most dangerous section of the route.\n",
      "\n",
      "The Bottleneck was a narrow ridge, barely wide enough for one person, with sheer drops on either side. It was a place where many had fallen. Marcus had read the stories—of climbers who had lost their grip, of bodies found frozen in the snow, of dreams shattered by the mountain’s cruelty.\n",
      "\n",
      "But Marcus was not afraid. He had faced his fears before. He had climbed through the storm, through the cold, through the grief. And now, he was here.\n",
      "\n",
      "The team moved slowly, one after another, their boots crunching on the ice. The wind was stronger now, howling through the crevasses like a chorus of ghosts. Each step was a battle against the elements, each breath a reminder of the thin air.\n",
      "\n",
      "At the Bottleneck, the air was so thin that even the most seasoned climbers paused, their lungs burning. Marcus took a deep breath, steadied himself, and stepped forward. The ice was slick, the ridge narrow, and the view was breathtaking. Below, the world was a blur of white and blue, and above, the sky was a deep, endless black.\n",
      "\n",
      "He reached the top of the Bottleneck, and for a moment, he stopped. The wind was howling, the cold was biting, and the world seemed to hold its breath. He looked down at the team, their faces etched with determination and fear. He looked up, toward the summit, and felt something shift inside him.\n",
      "\n",
      "He had come to K2 to find peace, but he realized now that the mountain had already given him something. It had given him purpose. It had given him a reason to keep going.\n",
      "\n",
      "With a final push, he climbed higher, the team following. The final ascent was a blur of movement and determination. The summit was close, the sun breaking through the clouds, casting golden light over the snow.\n",
      "\n",
      "At the top, Marcus stood alone, the wind still howling, but now it felt like a song. He looked out over the world, the vastness of the mountain, the silence that surrounded him. He closed his eyes, and for the first time in years, he felt at peace.\n",
      "\n",
      "He had not found the answers he sought, but he had found something else. He had found strength. He had found a way to move forward.\n",
      "\n",
      "And as the sun set behind the peaks, Marcus Hale stood on the summit of K2, not as a conqueror, but as a man who had faced the mountain—and found himself.\n"
     ]
    }
   ],
   "source": [
    "next_token_preds(model, tokenizer, tok_without_thinking)"
   ]
  },
  {
   "cell_type": "code",
   "execution_count": null,
   "metadata": {},
   "outputs": [],
   "source": []
  }
 ],
 "metadata": {
  "kernelspec": {
   "display_name": ".ml-env",
   "language": "python",
   "name": "python3"
  },
  "language_info": {
   "codemirror_mode": {
    "name": "ipython",
    "version": 3
   },
   "file_extension": ".py",
   "mimetype": "text/x-python",
   "name": "python",
   "nbconvert_exporter": "python",
   "pygments_lexer": "ipython3",
   "version": "3.12.4"
  }
 },
 "nbformat": 4,
 "nbformat_minor": 2
}
