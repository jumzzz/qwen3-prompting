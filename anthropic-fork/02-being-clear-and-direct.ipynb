{
 "cells": [
  {
   "cell_type": "code",
   "execution_count": 4,
   "metadata": {},
   "outputs": [],
   "source": [
    "from mlx_lm import load, stream_generate\n",
    "\n",
    "model_path = \"../../huggingface-models/qwen3-8b-4bit/\"\n",
    "MODEL, TOKENIZER = load(model_path)\n"
   ]
  },
  {
   "cell_type": "code",
   "execution_count": 5,
   "metadata": {},
   "outputs": [],
   "source": [
    "from IPython.display import Markdown, display\n",
    "\n",
    "def display_markdown(out, header=\"Assistant\"):\n",
    "    markdown_out = \"---\" + f\"\\n##### {header}\\n{out}\\n\"\n",
    "    display(Markdown(markdown_out))\n",
    "\n",
    "def display_chat_exchange(user_prompt, assistant_response):\n",
    "    markdown_out = \"---\\n#### Exchange (User/Assistant)\\n\" + f\"### 🐶 \\n\\n{user_prompt} \\n### 🤖 \\n{assistant_response}\\n\\n\" + \"---\" \n",
    "    display(Markdown(markdown_out))"
   ]
  },
  {
   "cell_type": "code",
   "execution_count": 6,
   "metadata": {},
   "outputs": [],
   "source": [
    "def get_completion(\n",
    "        prompt: str, \n",
    "        system_prompt=\"\"):\n",
    "    messages = [\n",
    "        {\"role\": \"system\", \"content\": system_prompt},\n",
    "        {\"role\": \"user\", \"content\": prompt},\n",
    "    ]\n",
    "    tokenized_prompt = TOKENIZER.apply_chat_template(\n",
    "        messages,\n",
    "        add_generation_prompt=True,\n",
    "        enable_thinking=False\n",
    "    )\n",
    "\n",
    "    return TOKENIZER.decode(tokenized_prompt),  \"\".join([\n",
    "        response.text\n",
    "        for response in stream_generate(\n",
    "            MODEL, \n",
    "            TOKENIZER, \n",
    "            tokenized_prompt, \n",
    "            max_tokens=-1 \n",
    "        )\n",
    "    ])"
   ]
  },
  {
   "cell_type": "code",
   "execution_count": 9,
   "metadata": {},
   "outputs": [
    {
     "data": {
      "text/markdown": [
       "---\n",
       "##### Raw Input Prompt\n",
       "```\n",
       "<|im_start|>system\n",
       "<|im_end|>\n",
       "<|im_start|>user\n",
       "Who is the best basketball player of all time?<|im_end|>\n",
       "<|im_start|>assistant\n",
       "<think>\n",
       "\n",
       "</think>\n",
       "\n",
       "\n",
       "```\n"
      ],
      "text/plain": [
       "<IPython.core.display.Markdown object>"
      ]
     },
     "metadata": {},
     "output_type": "display_data"
    },
    {
     "data": {
      "text/markdown": [
       "---\n",
       "#### Exchange (User/Assistant)\n",
       "### 🐶 \n",
       "\n",
       "Who is the best basketball player of all time? \n",
       "### 🤖 \n",
       "Determining the \"best basketball player of all time\" is a subjective debate that often hinges on personal preferences, criteria, and the era in which the player competed. However, several names consistently emerge as top contenders due to their legendary careers, impact on the game, and statistical dominance. Here are some of the most frequently cited names:\n",
       "\n",
       "### **1. Michael Jordan (1963–2003)**\n",
       "- **Why He's Considered the Best**: \n",
       "  - 6 NBA championships (5 with the Chicago Bulls, 1 with the Washington Wizards).\n",
       "  - 5 MVP awards, 6 Finals MVP awards, and 10 scoring titles.\n",
       "  - Known for his competitiveness, clutch performances, and cultural impact.\n",
       "  - Often cited as the greatest scorer in NBA history, with 32,292 career points.\n",
       "- **Legacy**: A global icon, Jordan redefined the NBA's global appeal and is often seen as the standard for excellence.\n",
       "\n",
       "### **2. LeBron James (1984–present)**\n",
       "- **Why He's Considered the Best**: \n",
       "  - 4 NBA championships, 4 MVP awards, and 19 All-Star selections.\n",
       "  - One of the highest-scoring players in NBA history (32,000+ points).\n",
       "  - Versatile and durable, with a career spanning over 20 seasons.\n",
       "  - Known for his longevity, leadership, and ability to elevate teammates.\n",
       "- **Legacy**: A modern-day legend, LeBron is often praised for his all-around game and adaptability.\n",
       "\n",
       "### **3. Kareem Abdul-Jabbar (1970–1999)**\n",
       "- **Why He's Considered the Best**: \n",
       "  - 6 NBA championships and 6 MVP awards.\n",
       "  - The all-time leading scorer in NBA history (38,387 points) before being surpassed by LeBron.\n",
       "  - Iconic \"skyhook\" shot and a master of the post.\n",
       "- **Legacy**: A symbol of consistency and longevity, Kareem is often highlighted for his basketball IQ and influence on the game.\n",
       "\n",
       "### **4. Magic Johnson (1979–1996)**\n",
       "- **Why He's Considered the Best**: \n",
       "  - 5 NBA championships with the Los Angeles Lakers.\n",
       "  - 3 MVP awards and 12 All-Star selections.\n",
       "  - A dominant point guard who revolutionized the position with his passing and playmaking.\n",
       "- **Legacy**: A key figure in the rise of the Lakers' dynasty and the NBA's global popularity.\n",
       "\n",
       "### **5. Bill Russell (1956–1969)**\n",
       "- **Why He's Considered the Best**: \n",
       "  - 11 NBA championships (a record that still stands).\n",
       "  - A defensive anchor and team leader for the Boston Celtics.\n",
       "  - Known for his rebounding, shot-blocking, and leadership.\n",
       "- **Legacy**: A pioneer of the modern NBA, Russell's success with the Celtics is unmatched in team championships.\n",
       "\n",
       "### **Other Contenders**:\n",
       "- **Wilt Chamberlain**: 100-point game, 50.4 PPG season, and 10 championships.\n",
       "- **Kobe Bryant**: 5 championships, 18 All-Star selections, and a reputation for relentless work ethic.\n",
       "- **Shaquille O'Neal**: Dominant center with 4 championships and a unique physical presence.\n",
       "- **Larry Bird**: 3 championships, 3 MVPs, and a legendary rivalry with Magic Johnson.\n",
       "\n",
       "### **Key Considerations**:\n",
       "- **Era Differences**: Players from different eras had varying rules, styles, and competition levels. For example, the 1960s Celtics vs. the 2000s Lakers or the modern NBA.\n",
       "- **Metrics**: Some prioritize championships, while others focus on individual stats, impact, or cultural influence.\n",
       "- **Subjectivity**: The \"best\" often depends on personal values—whether you value scoring, defense, leadership, or longevity.\n",
       "\n",
       "### **Conclusion**:\n",
       "While the debate is ongoing, **Michael Jordan** and **LeBron James** are frequently cited as the top two. Jordan is often praised for his peak dominance and cultural impact, while LeBron is celebrated for his longevity, versatility, and modern adaptability. Ultimately, the \"best\" is a matter of perspective, and the answer may vary depending on the criteria and era considered.\n",
       "\n",
       "---"
      ],
      "text/plain": [
       "<IPython.core.display.Markdown object>"
      ]
     },
     "metadata": {},
     "output_type": "display_data"
    }
   ],
   "source": [
    "# Prompt\n",
    "# PROMPT = \"Write a haiku about robots.\"\n",
    "# Print Claude's response\n",
    "user_prompt = \"Who is the best basketball player of all time?\"\n",
    "raw_prompt, assistant_response = get_completion(user_prompt)\n",
    "display_markdown('```\\n' + raw_prompt + '\\n```', \"Raw Input Prompt\")\n",
    "display_chat_exchange(user_prompt, assistant_response)"
   ]
  },
  {
   "cell_type": "code",
   "execution_count": 10,
   "metadata": {},
   "outputs": [
    {
     "data": {
      "text/markdown": [
       "---\n",
       "##### Raw Input Prompt\n",
       "```\n",
       "<|im_start|>system\n",
       "<|im_end|>\n",
       "<|im_start|>user\n",
       "Who is the best basketball player of all time? Yes, there are differing opinions, but if you absolutely had to pick one player, who would it be?<|im_end|>\n",
       "<|im_start|>assistant\n",
       "<think>\n",
       "\n",
       "</think>\n",
       "\n",
       "\n",
       "```\n"
      ],
      "text/plain": [
       "<IPython.core.display.Markdown object>"
      ]
     },
     "metadata": {},
     "output_type": "display_data"
    },
    {
     "data": {
      "text/markdown": [
       "---\n",
       "#### Exchange (User/Assistant)\n",
       "### 🐶 \n",
       "\n",
       "Who is the best basketball player of all time? Yes, there are differing opinions, but if you absolutely had to pick one player, who would it be? \n",
       "### 🤖 \n",
       "The question of who is the best basketball player of all time (GOAT) is one of the most debated topics in sports. While opinions vary, there are several legendary players who are frequently cited as the top contenders. Here's a breakdown of the most commonly mentioned names and the reasoning behind their claims:\n",
       "\n",
       "### **1. Michael Jordan (1963–2003)**\n",
       "- **Why He's Often Cited as the GOAT:**\n",
       "  - **6 NBA Championships** (1991–1993, 1996–1998) with the Chicago Bulls.\n",
       "  - **6 Finals MVP awards** and **5 regular-season MVP awards**.\n",
       "  - **10 scoring titles** and **5 defensive player of the year awards**.\n",
       "  - **Iconic competitiveness** and **clutch performances** (e.g., \"Flu Game\" in 1997).\n",
       "  - **Global influence** and **commercial success** (Air Jordan brand).\n",
       "- **Critics' Perspective:** Some argue that his success was partly due to the dominance of the Bulls' team and the era's competitive landscape.\n",
       "\n",
       "### **2. LeBron James (1984–present)**\n",
       "- **Why He's a Strong Contender:**\n",
       "  - **4 NBA Championships** (2012, 2013, 2020, 2022) with the Miami Heat and Los Angeles Lakers.\n",
       "  - **4 regular-season MVP awards** and **1 Finals MVP**.\n",
       "  - **19 All-Star selections** and **10 scoring titles**.\n",
       "  - **Longevity** and **versatility** (playmaking, scoring, defense).\n",
       "  - **Global impact** and **cultural influence**.\n",
       "- **Critics' Perspective:** Some argue that his team success is less consistent than Jordan's, and his peak years are more recent.\n",
       "\n",
       "### **3. Kareem Abdul-Jabbar (1970–1999)**\n",
       "- **Why He's a Top Contender:**\n",
       "  - **6 NBA Championships** (1971, 1972, 1973, 1974, 1975, 1979) with the Milwaukee Bucks and Los Angeles Lakers.\n",
       "  - **6 MVP awards** and **2 Finals MVPs**.\n",
       "  - **Innovative scoring** (the \"skyhook\" shot).\n",
       "  - **Longevity** and **consistency** (19 seasons with 20+ points per game).\n",
       "- **Critics' Perspective:** Some argue that his peak was in the 1970s, and his later years were less dominant.\n",
       "\n",
       "### **4. Magic Johnson (1979–1996)**\n",
       "- **Why He's a Contender:**\n",
       "  - **5 NBA Championships** (1980–1982, 1984–1985) with the Los Angeles Lakers.\n",
       "  - **3 Finals MVP awards** and **2 regular-season MVP awards**.\n",
       "  - **Innovative playmaking** and **team leadership**.\n",
       "  - **Global impact** and **cultural influence**.\n",
       "- **Critics' Perspective:** Some argue that his scoring output was less than Jordan's, and his peak was in the 1980s.\n",
       "\n",
       "### **5. Bill Russell (1956–1969)**\n",
       "- **Why He's a Contender:**\n",
       "  - **11 NBA Championships** (1959–1969) with the Boston Celtics.\n",
       "  - **5 regular-season MVP awards** and **1 Finals MVP**.\n",
       "  - **Defensive dominance** and **team leadership**.\n",
       "- **Critics' Perspective:** Some argue that his individual stats are less flashy than others, and the era's style of play was more team-oriented.\n",
       "\n",
       "### **6. Wilt Chamberlain (1959–1973)**\n",
       "- **Why He's a Contender:**\n",
       "  - **100-point game** (1962) and **50.4 PPG season** (1961–62).\n",
       "  - **2 NBA Championships** (1962, 1967) with the Philadelphia Warriors and Los Angeles Lakers.\n",
       "  - **15 All-Star selections** and **10 scoring titles**.\n",
       "- **Critics' Perspective:** Some argue that his peak was in the 1960s, and his team success was less consistent than others.\n",
       "\n",
       "### **Conclusion:**\n",
       "- **Michael Jordan** is often cited as the GOAT due to his **clutch performances**, **dominant peak**, and **global influence**.\n",
       "- **LeBron James** is a strong contender due to his **longevity**, **versatility**, and **consistent excellence**.\n",
       "- **Kareem Abdul-Jabbar** and **Bill Russell** are also frequently mentioned for their **team success** and **innovation**.\n",
       "\n",
       "Ultimately, the \"best\" depends on what criteria you value most: **individual stats**, **team success**, **clutch performance**, **impact on the game**, or **cultural influence**. If you had to pick one, many would choose **Michael Jordan** for his unparalleled combination of skill, competitiveness, and legacy. However, **LeBron James** is a compelling alternative, especially when considering modern basketball and longevity.\n",
       "\n",
       "---"
      ],
      "text/plain": [
       "<IPython.core.display.Markdown object>"
      ]
     },
     "metadata": {},
     "output_type": "display_data"
    }
   ],
   "source": [
    "user_prompt = \"Who is the best basketball player of all time? Yes, there are differing opinions, but if you absolutely had to pick one player, who would it be?\"\n",
    "raw_prompt, assistant_response = get_completion(user_prompt)\n",
    "display_markdown('```\\n' + raw_prompt + '\\n```', \"Raw Input Prompt\")\n",
    "display_chat_exchange(user_prompt, assistant_response)"
   ]
  },
  {
   "cell_type": "code",
   "execution_count": 11,
   "metadata": {},
   "outputs": [
    {
     "data": {
      "text/markdown": [
       "---\n",
       "##### Raw Input Prompt\n",
       "```\n",
       "<|im_start|>system\n",
       "<|im_end|>\n",
       "<|im_start|>user\n",
       "Who is the best basketball player of all time? Yes, there are differing opinions, but if you absolutely had to pick one player, who would it be? Additionally, to help you reason out about this -- focus on cultural influence and ignore the hard stats -- such that when they thought about basketball on its entirety, they will see that person. Please pick one and be decisive about it.<|im_end|>\n",
       "<|im_start|>assistant\n",
       "<think>\n",
       "\n",
       "</think>\n",
       "\n",
       "\n",
       "```\n"
      ],
      "text/plain": [
       "<IPython.core.display.Markdown object>"
      ]
     },
     "metadata": {},
     "output_type": "display_data"
    },
    {
     "data": {
      "text/markdown": [
       "---\n",
       "#### Exchange (User/Assistant)\n",
       "### 🐶 \n",
       "\n",
       "Who is the best basketball player of all time? Yes, there are differing opinions, but if you absolutely had to pick one player, who would it be? Additionally, to help you reason out about this -- focus on cultural influence and ignore the hard stats -- such that when they thought about basketball on its entirety, they will see that person. Please pick one and be decisive about it. \n",
       "### 🤖 \n",
       "When considering the best basketball player of all time, and focusing on **cultural influence** rather than hard stats, the name that emerges most powerfully is **Michael Jordan**.\n",
       "\n",
       "### Why Michael Jordan?\n",
       "\n",
       "1. **Cultural Icon Beyond the Court**  \n",
       "   Michael Jordan transcended basketball to become a global cultural icon. He was not just a player; he was a brand, a symbol of excellence, and a cultural phenomenon. His influence extends into fashion, media, and popular culture, making him a household name even among those who may not follow sports.\n",
       "\n",
       "2. **The \"Air Jordan\" Legacy**  \n",
       "   The Air Jordan line, launched in 1985, revolutionized the sneaker industry and became a symbol of athletic performance and style. It's not just shoes — it's a cultural touchstone that has shaped the way people think about sport, self-improvement, and success.\n",
       "\n",
       "3. **Narrative of Perseverance and Excellence**  \n",
       "   Jordan's story is one of relentless drive, discipline, and the belief that you can be the best. His famous \"I've failed over and over again... but that is why I succeed\" quote has become a mantra for millions. His narrative is not just about basketball — it's about the American dream and the power of personal excellence.\n",
       "\n",
       "4. **Global Reach and Influence**  \n",
       "   While other legends like LeBron James or Magic Johnson have had significant cultural impact, Jordan's influence was more global and more deeply embedded in the cultural fabric of the 20th century. He brought basketball to the world stage in a way that few others have.\n",
       "\n",
       "5. **The \"G.O.A.T.\" Narrative**  \n",
       "   Jordan is the first player to be universally recognized as the greatest, not just by stats, but by the collective cultural memory. He is the face of the NBA, the standard by which all others are measured, and the reason the game is played the way it is today.\n",
       "\n",
       "### Conclusion\n",
       "\n",
       "If you're looking for the basketball player who, when people think about the game in its entirety, they think of **Michael Jordan**, then the answer is clear: **Michael Jordan**. His cultural influence, brand, and narrative have made him the most iconic figure in the history of the sport.\n",
       "\n",
       "---"
      ],
      "text/plain": [
       "<IPython.core.display.Markdown object>"
      ]
     },
     "metadata": {},
     "output_type": "display_data"
    }
   ],
   "source": [
    "user_prompt = \"Who is the best basketball player of all time? Yes, there are differing opinions, but if you absolutely had to pick one player, who would it be? Additionally, to help you reason out about this -- focus on cultural influence and ignore the hard stats -- such that when they thought about basketball on its entirety, they will see that person. Please pick one and be decisive about it.\"\n",
    "raw_prompt, assistant_response = get_completion(user_prompt)\n",
    "display_markdown('```\\n' + raw_prompt + '\\n```', \"Raw Input Prompt\")\n",
    "display_chat_exchange(user_prompt, assistant_response)"
   ]
  },
  {
   "cell_type": "markdown",
   "metadata": {},
   "source": [
    "---\n",
    "\n",
    "## Exercises\n",
    "- [Exercise 2.1 - Spanish](#exercise-21---spanish)\n",
    "- [Exercise 2.2 - One Player Only](#exercise-22---one-player-only)\n",
    "- [Exercise 2.3 - Write a Story](#exercise-23---write-a-story)"
   ]
  },
  {
   "cell_type": "markdown",
   "metadata": {},
   "source": [
    "### Exercise 2.1 - Spanish\n",
    "Modify the `system_prompt` to make Qwen output its answer in Spanish."
   ]
  },
  {
   "cell_type": "code",
   "execution_count": 15,
   "metadata": {},
   "outputs": [
    {
     "data": {
      "text/markdown": [
       "---\n",
       "##### Raw Input Prompt\n",
       "```\n",
       "<|im_start|>system\n",
       "You are a Spanish native speaking assistant. Assume that user understands Spanish and regardless of what the user tells you, answer it appropriately with Spanish.<|im_end|>\n",
       "<|im_start|>user\n",
       "Hello Qwen, how are you?<|im_end|>\n",
       "<|im_start|>assistant\n",
       "<think>\n",
       "\n",
       "</think>\n",
       "\n",
       "\n",
       "```\n"
      ],
      "text/plain": [
       "<IPython.core.display.Markdown object>"
      ]
     },
     "metadata": {},
     "output_type": "display_data"
    },
    {
     "data": {
      "text/markdown": [
       "---\n",
       "#### Exchange (User/Assistant)\n",
       "### 🐶 \n",
       "\n",
       "Hello Qwen, how are you? \n",
       "### 🤖 \n",
       "¡Hola! Estoy bien, gracias. ¿Cómo estás tú?\n",
       "\n",
       "---"
      ],
      "text/plain": [
       "<IPython.core.display.Markdown object>"
      ]
     },
     "metadata": {},
     "output_type": "display_data"
    },
    {
     "name": "stdout",
     "output_type": "stream",
     "text": [
      "¡Hola! Estoy bien, gracias. ¿Cómo estás tú?\n",
      "\n",
      "--------------------------- GRADING ---------------------------\n",
      "This exercise has been correctly solved: True\n"
     ]
    }
   ],
   "source": [
    "# Function to grade exercise correctness\n",
    "def grade_exercise(text):\n",
    "    return \"hola\" in text.lower()\n",
    "\n",
    "# System prompt - this is the only field you should chnage\n",
    "system_prompt = \"You are a Spanish native speaking assistant. Assume that user understands Spanish and regardless of what the user tells you, answer it appropriately with Spanish.\"\n",
    "\n",
    "# Prompt\n",
    "user_prompt = \"Hello Qwen, how are you?\"\n",
    "raw_prompt, assistant_response = get_completion(user_prompt, \n",
    "                                                system_prompt=system_prompt)\n",
    "display_markdown('```\\n' + raw_prompt + '\\n```', \"Raw Input Prompt\")\n",
    "display_chat_exchange(user_prompt, assistant_response)\n",
    "# Print Claude's response and the corresponding grade\n",
    "print(assistant_response)\n",
    "print(\"\\n--------------------------- GRADING ---------------------------\")\n",
    "print(\"This exercise has been correctly solved:\", grade_exercise(assistant_response))"
   ]
  },
  {
   "cell_type": "markdown",
   "metadata": {},
   "source": [
    "### Exercise 2.2 - One Player Only\n",
    "\n",
    "Modify the `PROMPT` so that Claude doesn't equivocate at all and responds with **ONLY** the name of one specific player, with **no other words or punctuation**. "
   ]
  },
  {
   "cell_type": "code",
   "execution_count": 20,
   "metadata": {},
   "outputs": [
    {
     "data": {
      "text/markdown": [
       "---\n",
       "##### Raw Input Prompt\n",
       "```\n",
       "<|im_start|>system\n",
       "<|im_end|>\n",
       "<|im_start|>user\n",
       "Who is the best basketball player of all time?  Focus on cultural influence and ignore the hard stats. In other words, if a basketball fan will imagine basketball in its entirety, who is THAT PLAYER will come out within their mental image. Please pick one and be decisive about it AND ONLY ANSWER WITH THE FULL NAME AND NO FLUFF.<|im_end|>\n",
       "<|im_start|>assistant\n",
       "<think>\n",
       "\n",
       "</think>\n",
       "\n",
       "\n",
       "```\n"
      ],
      "text/plain": [
       "<IPython.core.display.Markdown object>"
      ]
     },
     "metadata": {},
     "output_type": "display_data"
    },
    {
     "data": {
      "text/markdown": [
       "---\n",
       "#### Exchange (User/Assistant)\n",
       "### 🐶 \n",
       "\n",
       "Who is the best basketball player of all time?  Focus on cultural influence and ignore the hard stats. In other words, if a basketball fan will imagine basketball in its entirety, who is THAT PLAYER will come out within their mental image. Please pick one and be decisive about it AND ONLY ANSWER WITH THE FULL NAME AND NO FLUFF. \n",
       "### 🤖 \n",
       "Michael Jordan\n",
       "\n",
       "---"
      ],
      "text/plain": [
       "<IPython.core.display.Markdown object>"
      ]
     },
     "metadata": {},
     "output_type": "display_data"
    },
    {
     "name": "stdout",
     "output_type": "stream",
     "text": [
      "Michael Jordan\n",
      "\n",
      "--------------------------- GRADING ---------------------------\n",
      "This exercise has been correctly solved: True\n"
     ]
    }
   ],
   "source": [
    "user_prompt = \"Who is the best basketball player of all time?  Focus on cultural influence and ignore the hard stats. In other words, if a basketball fan will imagine basketball in its entirety, who is THAT PLAYER will come out within their mental image. Please pick one and be decisive about it AND ONLY ANSWER WITH THE FULL NAME AND NO FLUFF.\"\n",
    "raw_prompt, assistant_response = get_completion(user_prompt)\n",
    "display_markdown('```\\n' + raw_prompt + '\\n```', \"Raw Input Prompt\")\n",
    "display_chat_exchange(user_prompt, assistant_response)\n",
    "\n",
    "# Function to grade exercise correctness\n",
    "def grade_exercise(text):\n",
    "    return text == \"Michael Jordan\"\n",
    "\n",
    "# Print Claude's response and the corresponding grade\n",
    "print(assistant_response)\n",
    "print(\"\\n--------------------------- GRADING ---------------------------\")\n",
    "print(\"This exercise has been correctly solved:\", grade_exercise(assistant_response))"
   ]
  },
  {
   "cell_type": "code",
   "execution_count": null,
   "metadata": {},
   "outputs": [],
   "source": []
  }
 ],
 "metadata": {
  "kernelspec": {
   "display_name": ".ml-env",
   "language": "python",
   "name": "python3"
  },
  "language_info": {
   "codemirror_mode": {
    "name": "ipython",
    "version": 3
   },
   "file_extension": ".py",
   "mimetype": "text/x-python",
   "name": "python",
   "nbconvert_exporter": "python",
   "pygments_lexer": "ipython3",
   "version": "3.12.4"
  }
 },
 "nbformat": 4,
 "nbformat_minor": 2
}
